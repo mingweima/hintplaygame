{
 "cells": [
  {
   "cell_type": "code",
   "execution_count": 8,
   "id": "b9450e19-fe1c-4bd2-928a-a2736ce55a6f",
   "metadata": {
    "execution": {
     "iopub.execute_input": "2021-10-03T02:48:49.203886Z",
     "iopub.status.busy": "2021-10-03T02:48:49.203232Z",
     "iopub.status.idle": "2021-10-03T02:48:49.210444Z",
     "shell.execute_reply": "2021-10-03T02:48:49.209433Z",
     "shell.execute_reply.started": "2021-10-03T02:48:49.203788Z"
    },
    "tags": []
   },
   "outputs": [],
   "source": [
    "import numpy as np\n",
    "import pandas as pd\n",
    "import matplotlib.pyplot as plt\n",
    "import seaborn as sns\n",
    "\n",
    "import pickle\n",
    "import glob\n",
    "import os"
   ]
  },
  {
   "cell_type": "code",
   "execution_count": 3,
   "id": "5bcddb45-dca7-45a1-968b-a81c50c10e48",
   "metadata": {
    "execution": {
     "iopub.execute_input": "2021-10-03T02:46:45.887085Z",
     "iopub.status.busy": "2021-10-03T02:46:45.886814Z",
     "iopub.status.idle": "2021-10-03T02:46:45.891130Z",
     "shell.execute_reply": "2021-10-03T02:46:45.890444Z",
     "shell.execute_reply.started": "2021-10-03T02:46:45.887050Z"
    },
    "tags": []
   },
   "outputs": [],
   "source": [
    "models = ['FF', 'LSTM', 'Att1', 'Att2', 'Att3', ]\n",
    "model_names = ['Feedforward', 'Recurrent', 'Att + O', 'Att + O + AO', 'Att + O + AI', ]"
   ]
  },
  {
   "cell_type": "code",
   "execution_count": 4,
   "id": "95c5cc83-25d9-41cc-9a9b-f33a7061c91f",
   "metadata": {
    "execution": {
     "iopub.execute_input": "2021-10-03T02:46:45.892802Z",
     "iopub.status.busy": "2021-10-03T02:46:45.892576Z",
     "iopub.status.idle": "2021-10-03T02:47:51.624402Z",
     "shell.execute_reply": "2021-10-03T02:47:51.623696Z",
     "shell.execute_reply.started": "2021-10-03T02:46:45.892771Z"
    },
    "tags": []
   },
   "outputs": [
    {
     "name": "stdout",
     "output_type": "stream",
     "text": [
      "FF\n",
      "LSTM\n",
      "Att1\n",
      "Att2\n",
      "Att3\n"
     ]
    }
   ],
   "source": [
    "res_groups = {}\n",
    "for model in models:\n",
    "    print(model)\n",
    "    path_res = f'res/{model}_hs_5_l1_3_l2_3_TrueTrue3000000'\n",
    "    model_list = []\n",
    "    for file in sorted(glob.glob(os.path.join(path_res, \"*.pkl\")))[0:12]:\n",
    "         with open(file, \"rb\") as f:\n",
    "                model_list.append(pickle.load(f))\n",
    "    res_groups[model] = model_list"
   ]
  },
  {
   "cell_type": "code",
   "execution_count": 5,
   "id": "2a0d961f-7b4c-457c-a6f9-9998c7357436",
   "metadata": {
    "execution": {
     "iopub.execute_input": "2021-10-03T02:47:51.625832Z",
     "iopub.status.busy": "2021-10-03T02:47:51.625639Z",
     "iopub.status.idle": "2021-10-03T02:47:52.193433Z",
     "shell.execute_reply": "2021-10-03T02:47:52.192378Z",
     "shell.execute_reply.started": "2021-10-03T02:47:51.625806Z"
    },
    "tags": []
   },
   "outputs": [
    {
     "name": "stdout",
     "output_type": "stream",
     "text": [
      "FF\n",
      "LSTM\n",
      "Att1\n",
      "Att2\n",
      "Att3\n"
     ]
    }
   ],
   "source": [
    "xp_groups = {}\n",
    "\n",
    "for model in models:\n",
    "    print(model)\n",
    "    path_res = f'sample/same_hand/xp_{model}_same.csv'\n",
    "    xp_groups[model] = pd.read_csv(path_res, index_col=0)"
   ]
  },
  {
   "cell_type": "markdown",
   "id": "728705b6-35fd-4a67-8ce8-d7881118612d",
   "metadata": {},
   "source": [
    "## Part 1: Learning curves"
   ]
  },
  {
   "cell_type": "code",
   "execution_count": 6,
   "id": "638e0a42-3f81-4c4e-ae6b-87140faa6b5f",
   "metadata": {
    "execution": {
     "iopub.execute_input": "2021-10-03T02:47:52.194926Z",
     "iopub.status.busy": "2021-10-03T02:47:52.194660Z",
     "iopub.status.idle": "2021-10-03T02:47:52.200857Z",
     "shell.execute_reply": "2021-10-03T02:47:52.199786Z",
     "shell.execute_reply.started": "2021-10-03T02:47:52.194891Z"
    },
    "tags": []
   },
   "outputs": [],
   "source": [
    "def plot_avg(res_list, label):\n",
    "    moving_avgs = []\n",
    "    for res in res_list:\n",
    "        rewards = res['rewards']\n",
    "        rewards = np.array(rewards)\n",
    "        rewards = rewards.reshape(500,-1)\n",
    "        moving_avg = np.mean(rewards, axis=1)\n",
    "        moving_avgs.append(moving_avg)\n",
    "    moving_avgs = np.array(moving_avgs)\n",
    "    moving_avg_avg = np.mean(moving_avgs, axis=0)\n",
    "    plt.plot(moving_avg_avg, label=label)"
   ]
  },
  {
   "cell_type": "markdown",
   "id": "52b28d0b-7d0e-4d54-9603-54c376c69821",
   "metadata": {},
   "source": [
    "## Part 2: Self-play scores\n",
    "\n",
    "SP score for each model. The mean and std are for differently-seeded agents. Each agent pair plays 100 games for sample."
   ]
  },
  {
   "cell_type": "code",
   "execution_count": 9,
   "id": "aafd6237-f0b5-4e27-83a4-228fefc3ff9e",
   "metadata": {
    "execution": {
     "iopub.execute_input": "2021-10-03T02:48:51.589569Z",
     "iopub.status.busy": "2021-10-03T02:48:51.589294Z",
     "iopub.status.idle": "2021-10-03T02:48:51.599968Z",
     "shell.execute_reply": "2021-10-03T02:48:51.598928Z",
     "shell.execute_reply.started": "2021-10-03T02:48:51.589538Z"
    },
    "tags": []
   },
   "outputs": [
    {
     "name": "stdout",
     "output_type": "stream",
     "text": [
      "0.9 0.034 FF SP\n",
      "0.86 0.037 LSTM SP\n",
      "0.92 0.034 Att1 SP\n",
      "0.82 0.084 Att2 SP\n",
      "0.9 0.13 Att3 SP\n"
     ]
    }
   ],
   "source": [
    "for model in models:\n",
    "    meanscore = np.diag(xp_groups[model]).mean()\n",
    "    stdscore = np.diag(xp_groups[model]).std()\n",
    "    print('{:.2}'.format(meanscore), '{:.2}'.format(stdscore), model, 'SP')"
   ]
  },
  {
   "cell_type": "markdown",
   "id": "fde5c2ed-2d26-425b-b02c-54d3d8558d65",
   "metadata": {
    "execution": {
     "iopub.execute_input": "2021-09-30T23:07:55.341255Z",
     "iopub.status.busy": "2021-09-30T23:07:55.340805Z",
     "iopub.status.idle": "2021-09-30T23:07:55.345603Z",
     "shell.execute_reply": "2021-09-30T23:07:55.344454Z",
     "shell.execute_reply.started": "2021-09-30T23:07:55.341201Z"
    }
   },
   "source": [
    "### Sample a few games for each architecture\n",
    "\n",
    "In models except Att3, the conventions are not dicipherable. Which card to hint/play not only depend on the label on the relavent cards, but also seem to intricately depends on other cards in the hand as well.\n",
    "\n",
    "In Att3, they just hint the playable card one cluster, and the furtherest card in the other cluster."
   ]
  },
  {
   "cell_type": "code",
   "execution_count": 10,
   "id": "3e79c96d-738a-443f-9a22-265e7b937380",
   "metadata": {
    "execution": {
     "iopub.execute_input": "2021-10-03T02:48:52.366800Z",
     "iopub.status.busy": "2021-10-03T02:48:52.366339Z",
     "iopub.status.idle": "2021-10-03T02:48:52.375518Z",
     "shell.execute_reply": "2021-10-03T02:48:52.374468Z",
     "shell.execute_reply.started": "2021-10-03T02:48:52.366745Z"
    },
    "tags": []
   },
   "outputs": [
    {
     "name": "stdout",
     "output_type": "stream",
     "text": [
      "GPU not available, CPU used\n"
     ]
    }
   ],
   "source": [
    "from sample.sample import sample_games\n",
    "\n",
    "game_num = 2"
   ]
  },
  {
   "cell_type": "code",
   "execution_count": 11,
   "id": "4b395f7e-1a93-40d9-9d9b-57c845e92b38",
   "metadata": {
    "execution": {
     "iopub.execute_input": "2021-10-03T02:48:52.797975Z",
     "iopub.status.busy": "2021-10-03T02:48:52.797487Z",
     "iopub.status.idle": "2021-10-03T02:48:52.818002Z",
     "shell.execute_reply": "2021-10-03T02:48:52.817302Z",
     "shell.execute_reply.started": "2021-10-03T02:48:52.797910Z"
    },
    "tags": []
   },
   "outputs": [
    {
     "name": "stdout",
     "output_type": "stream",
     "text": [
      "===== Game starts with handsize: 5, nlabl: 3, nlab2: 3 =====\n",
      "Playable hand is: 2A\n",
      "Agent 1 hand is: ['3A', '2C', '1C', '3A', '2̲A']\n",
      "Agent 2 hand is: ['3A', '3A', '2C', '2̲A', '1C']\n",
      "Agent 1 hints 3A @  0\n",
      "Agent 2 plays 2C @  2\n",
      "Final reward of game: 0.0\n",
      "\n",
      "\n",
      "===== Game starts with handsize: 5, nlabl: 3, nlab2: 3 =====\n",
      "Playable hand is: 2B\n",
      "Agent 1 hand is: ['2A', '1A', '2̲B', '1C', '2C']\n",
      "Agent 2 hand is: ['2C', '1A', '2̲B', '1C', '2A']\n",
      "Agent 1 hints 1C @  3\n",
      "Agent 2 plays 2B @  2\n",
      "Final reward of game: 1.0\n",
      "\n",
      "\n"
     ]
    },
    {
     "data": {
      "text/plain": [
       "array([0., 1.], dtype=float32)"
      ]
     },
     "execution_count": 11,
     "metadata": {},
     "output_type": "execute_result"
    }
   ],
   "source": [
    "model = 'FF'\n",
    "\n",
    "p1 = res_groups[model][0]['p1']\n",
    "p2 = res_groups[model][0]['p2']\n",
    "\n",
    "sample_games(p1, p2, episodes=game_num, verbose=True)"
   ]
  },
  {
   "cell_type": "code",
   "execution_count": 12,
   "id": "d4c51fa4-7916-4205-aa5a-2d077af7399b",
   "metadata": {
    "execution": {
     "iopub.execute_input": "2021-10-03T02:48:53.702703Z",
     "iopub.status.busy": "2021-10-03T02:48:53.702316Z",
     "iopub.status.idle": "2021-10-03T02:48:54.101944Z",
     "shell.execute_reply": "2021-10-03T02:48:54.101241Z",
     "shell.execute_reply.started": "2021-10-03T02:48:53.702656Z"
    },
    "tags": []
   },
   "outputs": [
    {
     "name": "stdout",
     "output_type": "stream",
     "text": [
      "===== Game starts with handsize: 5, nlabl: 3, nlab2: 3 =====\n",
      "Playable hand is: 2C\n",
      "Agent 1 hand is: ['1A', '2B', '2̲C', '3B', '2̲C']\n",
      "Agent 2 hand is: ['2̲C', '3B', '2B', '2̲C', '1A']\n",
      "Agent 1 hints 2C @  2\n",
      "Agent 2 plays 2C @  3\n",
      "Final reward of game: 1.0\n",
      "\n",
      "\n",
      "===== Game starts with handsize: 5, nlabl: 3, nlab2: 3 =====\n",
      "Playable hand is: 3C\n",
      "Agent 1 hand is: ['3̲C', '1B', '3B', '3B', '1B']\n",
      "Agent 2 hand is: ['3B', '1B', '3B', '3̲C', '1B']\n",
      "Agent 1 hints 3C @  0\n",
      "Agent 2 plays 3C @  3\n",
      "Final reward of game: 1.0\n",
      "\n",
      "\n"
     ]
    },
    {
     "data": {
      "text/plain": [
       "array([1., 1.], dtype=float32)"
      ]
     },
     "execution_count": 12,
     "metadata": {},
     "output_type": "execute_result"
    }
   ],
   "source": [
    "model = 'Att3'\n",
    "\n",
    "p1 = res_groups[model][4]['p1']\n",
    "p2 = res_groups[model][4]['p2']\n",
    "\n",
    "sample_games(p1, p2, episodes=game_num, verbose=True)"
   ]
  },
  {
   "cell_type": "code",
   "execution_count": 13,
   "id": "c3a81f63-dc7e-49f1-85b1-b7c2be7e5dc6",
   "metadata": {
    "execution": {
     "iopub.execute_input": "2021-10-03T02:48:54.103301Z",
     "iopub.status.busy": "2021-10-03T02:48:54.103089Z",
     "iopub.status.idle": "2021-10-03T02:48:54.135720Z",
     "shell.execute_reply": "2021-10-03T02:48:54.134819Z",
     "shell.execute_reply.started": "2021-10-03T02:48:54.103271Z"
    },
    "tags": []
   },
   "outputs": [
    {
     "name": "stdout",
     "output_type": "stream",
     "text": [
      "===== Game starts with handsize: 5, nlabl: 3, nlab2: 3 =====\n",
      "Playable hand is: 3C\n",
      "Agent 1 hand is: ['1A', '2A', '1A', '1A', '3̲C']\n",
      "Agent 2 hand is: ['3̲C', '1A', '1A', '1A', '2A']\n",
      "Agent 1 hints 3C @  4\n",
      "Agent 2 plays 3C @  0\n",
      "Final reward of game: 1.0\n",
      "\n",
      "\n",
      "===== Game starts with handsize: 5, nlabl: 3, nlab2: 3 =====\n",
      "Playable hand is: 3A\n",
      "Agent 1 hand is: ['1A', '3C', '3̲A', '2B', '3C']\n",
      "Agent 2 hand is: ['3C', '2B', '1A', '3C', '3̲A']\n",
      "Agent 1 hints 3A @  2\n",
      "Agent 2 plays 3A @  4\n",
      "Final reward of game: 1.0\n",
      "\n",
      "\n"
     ]
    },
    {
     "data": {
      "text/plain": [
       "array([1., 1.], dtype=float32)"
      ]
     },
     "execution_count": 13,
     "metadata": {},
     "output_type": "execute_result"
    }
   ],
   "source": [
    "model = 'Att3'\n",
    "\n",
    "aid =0\n",
    "\n",
    "p1 = res_groups[model][aid]['p1']\n",
    "p2 = res_groups[model][aid]['p2']\n",
    "\n",
    "sample_games(p1, p2, episodes=game_num, verbose=True)"
   ]
  },
  {
   "cell_type": "markdown",
   "id": "d9e1ea1a-48b3-4319-899a-537581698eb4",
   "metadata": {},
   "source": [
    "## XP matrices"
   ]
  },
  {
   "cell_type": "code",
   "execution_count": 14,
   "id": "eca1bd97-a5cf-4294-9016-eb86830126bd",
   "metadata": {
    "execution": {
     "iopub.execute_input": "2021-10-03T02:48:54.501007Z",
     "iopub.status.busy": "2021-10-03T02:48:54.500540Z",
     "iopub.status.idle": "2021-10-03T02:48:54.510499Z",
     "shell.execute_reply": "2021-10-03T02:48:54.509472Z",
     "shell.execute_reply.started": "2021-10-03T02:48:54.500953Z"
    },
    "tags": []
   },
   "outputs": [],
   "source": [
    "def arg_sort_xp(xpm):\n",
    "    xpm = xpm.values\n",
    "    xpm = xpm[:13,:13]\n",
    "    idx = np.argsort(xpm[:,0])\n",
    "    xpm = xpm[idx][:,idx]\n",
    "    return xpm\n",
    "\n",
    "ff = arg_sort_xp(xp_groups['FF'])\n",
    "lstm = arg_sort_xp(xp_groups['LSTM'])\n",
    "att1 = arg_sort_xp(xp_groups['Att1'])\n",
    "att2 = arg_sort_xp(xp_groups['Att2'])\n",
    "att3 = arg_sort_xp(xp_groups['Att3'])"
   ]
  },
  {
   "cell_type": "code",
   "execution_count": 15,
   "id": "f1dfd0c8-1048-4097-865c-8add35738791",
   "metadata": {
    "execution": {
     "iopub.execute_input": "2021-10-03T02:48:55.238287Z",
     "iopub.status.busy": "2021-10-03T02:48:55.237952Z",
     "iopub.status.idle": "2021-10-03T02:48:55.249957Z",
     "shell.execute_reply": "2021-10-03T02:48:55.249276Z",
     "shell.execute_reply.started": "2021-10-03T02:48:55.238255Z"
    },
    "tags": []
   },
   "outputs": [
    {
     "name": "stdout",
     "output_type": "stream",
     "text": [
      "Feed forward: \n",
      "(0.896615376839271, 0.035633905779884484, 0.28948717989409584, 0.11699240942595253)\n",
      "LSTM: \n",
      "(0.8584615358939538, 0.03854391702835285, 0.2657692313003234, 0.13346294250909566)\n",
      "Att1: \n",
      "(0.916615380690648, 0.03483044069245202, 0.2947948711136213, 0.13650766263563627)\n",
      "Att2: \n",
      "(0.8206153832949125, 0.08627464193918936, 0.2651794873183975, 0.16415640916478638)\n",
      "Att3: \n",
      "(0.8972307672867408, 0.13017748674107535, 0.4544615392626908, 0.46955220636562456)\n",
      "Att3 cluster 1: \n",
      "(0.7327999949455262, 0.011142698968194151, 0.7278000056743622, 0.02937958600124989)\n",
      "Att3 cluster 2: \n",
      "(1.0, 0.0, 1.0, 0.0)\n"
     ]
    }
   ],
   "source": [
    "def get_table_scores(mat):\n",
    "    sp_score_mean, sp_score_std = np.mean(np.diag(mat)), np.sqrt(np.var(np.diag(mat)))\n",
    "    off_diag = np.where(~np.eye(mat.shape[0],dtype=bool))\n",
    "    xp_score_mean, xp_score_std = np.mean(mat[off_diag]), np.sqrt(np.var(mat[off_diag]))\n",
    "    return sp_score_mean, sp_score_std, xp_score_mean, xp_score_std\n",
    "\n",
    "clus = 5\n",
    "\n",
    "print(\"Feed forward: \")\n",
    "print(get_table_scores(ff))\n",
    "print(\"LSTM: \")\n",
    "print(get_table_scores(lstm))\n",
    "print(\"Att1: \")\n",
    "print(get_table_scores(att1))\n",
    "print(\"Att2: \")\n",
    "print(get_table_scores(att2))\n",
    "print(\"Att3: \")\n",
    "print(get_table_scores(att3))\n",
    "print(\"Att3 cluster 1: \")\n",
    "print(get_table_scores(att3[:clus,:clus]))\n",
    "print(\"Att3 cluster 2: \")\n",
    "print(get_table_scores(att3[clus:,clus:]))"
   ]
  },
  {
   "cell_type": "code",
   "execution_count": 17,
   "id": "0ca35f12-45db-4806-9eff-2786f4070f99",
   "metadata": {
    "execution": {
     "iopub.execute_input": "2021-10-03T02:49:03.004337Z",
     "iopub.status.busy": "2021-10-03T02:49:03.003919Z",
     "iopub.status.idle": "2021-10-03T02:49:07.326877Z",
     "shell.execute_reply": "2021-10-03T02:49:07.326048Z",
     "shell.execute_reply.started": "2021-10-03T02:49:03.004286Z"
    },
    "tags": []
   },
   "outputs": [
    {
     "data": {
      "image/png": "[encoded data removed]",
      "text/plain": [
       "<Figure size 2500x450 with 6 Axes>"
      ]
     },
     "metadata": {},
     "output_type": "display_data"
    }
   ],
   "source": [
    "fig, axs = plt.subplots(ncols=6, gridspec_kw=dict(width_ratios=[4,4,4,4,4,0.2]), figsize=(25,4.5))\n",
    "\n",
    "cmap = \"viridis\"\n",
    "# cmap = \"rocket\"\n",
    "\n",
    "vmax = 1\n",
    "vmin = 0\n",
    "\n",
    "sns.heatmap(ff, cbar=False, ax=axs[0], cmap=cmap, vmax=vmax, vmin=vmin)\n",
    "sns.heatmap(lstm, cbar=False, ax=axs[1], cmap=cmap, vmax=vmax, vmin=vmin)\n",
    "sns.heatmap(att1, cbar=False, ax=axs[2], cmap=cmap, vmax=vmax, vmin=vmin)\n",
    "sns.heatmap(att2, cbar=False, ax=axs[3], cmap=cmap, vmax=vmax, vmin=vmin)\n",
    "sns.heatmap(att3, cbar=False, ax=axs[4], cmap=cmap, vmax=vmax, vmin=vmin)\n",
    "\n",
    "fig.colorbar(axs[3].collections[0], cax=axs[5])\n",
    "\n",
    "for i in range(5):\n",
    "    axs[i].set_ylabel('Player 1: Hinter Agent')\n",
    "    axs[i].set_xlabel('Player 2: Guesser Agent')\n",
    "    axs[i].title.set_text(model_names[i])\n",
    "    axs[i].xaxis.tick_top()\n",
    "\n",
    "plt.savefig('xp_same.pdf')\n",
    "plt.show()"
   ]
  },
  {
   "cell_type": "markdown",
   "id": "4cdbb7e0-5f12-40b9-ae68-be17785d9e28",
   "metadata": {
    "execution": {
     "iopub.execute_input": "2021-10-01T17:53:51.159124Z",
     "iopub.status.busy": "2021-10-01T17:53:51.158577Z",
     "iopub.status.idle": "2021-10-01T17:53:51.165030Z",
     "shell.execute_reply": "2021-10-01T17:53:51.163736Z",
     "shell.execute_reply.started": "2021-10-01T17:53:51.159033Z"
    }
   },
   "source": [
    "## Marginal probabilities"
   ]
  },
  {
   "cell_type": "code",
   "execution_count": null,
   "id": "d5eed2b9-3abc-454c-8b98-c166746bf2c1",
   "metadata": {},
   "outputs": [],
   "source": []
  },
  {
   "cell_type": "code",
   "execution_count": null,
   "id": "38e97074-5939-449d-98ce-64bbfd7bacfb",
   "metadata": {
    "execution": {
     "iopub.execute_input": "2021-10-01T20:28:24.777763Z",
     "iopub.status.busy": "2021-10-01T20:28:24.777299Z",
     "iopub.status.idle": "2021-10-01T20:28:29.439619Z",
     "shell.execute_reply": "2021-10-01T20:28:29.438735Z",
     "shell.execute_reply.started": "2021-10-01T20:28:24.777708Z"
    },
    "tags": []
   },
   "outputs": [],
   "source": [
    "fig, axs = plt.subplots(ncols=6, nrows=2, gridspec_kw=dict(width_ratios=[4,4,4,4,4,4,], height_ratios=[1,1]), figsize=(30,10))\n",
    "\n",
    "cmap = \"YlGnBu\"\n",
    "\n",
    "sample_mp_agents = ['Feedforward', 'Recurrent', 'Att + O', 'Att + O + AO', \n",
    "                    'Att + O + AI: Cluster 1', 'Att + O+ AI: Cluster 2']\n",
    "\n",
    "sns.heatmap(mpt_ff, cbar=False, ax=axs[0][0], cmap=cmap)\n",
    "sns.heatmap(mpt_lstm, cbar=False, ax=axs[0][1], cmap=cmap)\n",
    "sns.heatmap(mpt_att1, cbar=False, ax=axs[0][2], cmap=cmap)\n",
    "sns.heatmap(mpt_att2, cbar=False, ax=axs[0][3], cmap=cmap)\n",
    "sns.heatmap(mpt_att3_c, cbar=False, ax=axs[0][4], cmap=cmap)\n",
    "sns.heatmap(mpt_att3_f, cbar=False, ax=axs[0][5], cmap=cmap)\n",
    "\n",
    "\n",
    "sns.heatmap(mph_ff, cbar=False, ax=axs[1][0], cmap=cmap)\n",
    "sns.heatmap(mph_lstm, cbar=False, ax=axs[1][1], cmap=cmap)\n",
    "sns.heatmap(mph_att1, cbar=False, ax=axs[1][2], cmap=cmap)\n",
    "sns.heatmap(mph_att2, cbar=False, ax=axs[1][3], cmap=cmap)\n",
    "sns.heatmap(mph_att3_c, cbar=False, ax=axs[1][4], cmap=cmap)\n",
    "sns.heatmap(mph_att3_f, cbar=False, ax=axs[1][5], cmap=cmap)\n",
    "\n",
    "\n",
    "fig.subplots_adjust(right=0.88)\n",
    "cbar_ax = fig.add_axes([0.9, 0.15, 0.01, 0.7])\n",
    "fig.colorbar(axs[0][5].collections[0], cax=cbar_ax)\n",
    "\n",
    "\n",
    "for i in range(6):\n",
    "    axs[0][i].set_ylabel('Target Card')\n",
    "    axs[0][i].set_xlabel('Player 1 Hint Card')\n",
    "    axs[0][i].title.set_text(sample_mp_agents[i])\n",
    "    axs[0][i].xaxis.tick_top()\n",
    "    \n",
    "for i in range(6):\n",
    "    axs[1][i].set_ylabel('Hint Card')\n",
    "    axs[1][i].set_xlabel('Player 2 Guess Card')\n",
    "    axs[1][i].xaxis.tick_top()\n",
    "\n",
    "plt.savefig('mp.pdf')\n",
    "plt.show()"
   ]
  }
 ],
 "metadata": {
  "kernelspec": {
   "display_name": "Python 3",
   "language": "python",
   "name": "python3"
  },
  "language_info": {
   "codemirror_mode": {
    "name": "ipython",
    "version": 3
   },
   "file_extension": ".py",
   "mimetype": "text/x-python",
   "name": "python",
   "nbconvert_exporter": "python",
   "pygments_lexer": "ipython3",
   "version": "3.7.7"
  }
 },
 "nbformat": 4,
 "nbformat_minor": 5
}
