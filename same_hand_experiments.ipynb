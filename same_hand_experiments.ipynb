{
 "cells": [
  {
   "cell_type": "code",
   "execution_count": 1,
   "id": "b9450e19-fe1c-4bd2-928a-a2736ce55a6f",
   "metadata": {
    "execution": {
     "iopub.execute_input": "2021-09-30T22:55:16.447675Z",
     "iopub.status.busy": "2021-09-30T22:55:16.447111Z",
     "iopub.status.idle": "2021-09-30T22:55:17.568663Z",
     "shell.execute_reply": "2021-09-30T22:55:17.567837Z",
     "shell.execute_reply.started": "2021-09-30T22:55:16.447521Z"
    },
    "tags": []
   },
   "outputs": [],
   "source": [
    "import numpy as np\n",
    "import pandas as pd\n",
    "import matplotlib.pyplot as plt\n",
    "import seaborn as sns\n",
    "\n",
    "import pickle\n",
    "import glob\n",
    "import os"
   ]
  },
  {
   "cell_type": "code",
   "execution_count": 63,
   "id": "5bcddb45-dca7-45a1-968b-a81c50c10e48",
   "metadata": {
    "execution": {
     "iopub.execute_input": "2021-09-30T23:39:54.010725Z",
     "iopub.status.busy": "2021-09-30T23:39:54.010256Z",
     "iopub.status.idle": "2021-09-30T23:39:54.016367Z",
     "shell.execute_reply": "2021-09-30T23:39:54.015295Z",
     "shell.execute_reply.started": "2021-09-30T23:39:54.010670Z"
    },
    "tags": []
   },
   "outputs": [],
   "source": [
    "models = ['FF', 'LSTM', 'Att1', 'Att2', 'Att3', ]\n",
    "model_names = ['Feed Forward', 'LSTM', 'Attention for Obs', 'Attention for Obs+Action', 'Attention+Action-', ]"
   ]
  },
  {
   "cell_type": "code",
   "execution_count": 2,
   "id": "95c5cc83-25d9-41cc-9a9b-f33a7061c91f",
   "metadata": {
    "execution": {
     "iopub.execute_input": "2021-09-30T22:55:17.569922Z",
     "iopub.status.busy": "2021-09-30T22:55:17.569743Z",
     "iopub.status.idle": "2021-09-30T22:56:50.700248Z",
     "shell.execute_reply": "2021-09-30T22:56:50.699371Z",
     "shell.execute_reply.started": "2021-09-30T22:55:17.569897Z"
    },
    "tags": []
   },
   "outputs": [
    {
     "name": "stdout",
     "output_type": "stream",
     "text": [
      "FF\n",
      "LSTM\n",
      "Att1\n",
      "Att2\n",
      "Att3\n"
     ]
    }
   ],
   "source": [
    "res_groups = {}\n",
    "for model in models:\n",
    "    print(model)\n",
    "    path_res = f'res/{model}_hs_5_l1_3_l2_3_TrueTrue3000000'\n",
    "    model_list = []\n",
    "    for file in sorted(glob.glob(os.path.join(path_res, \"*.pkl\"))):\n",
    "         with open(file, \"rb\") as f:\n",
    "                model_list.append(pickle.load(f))\n",
    "    res_groups[model] = model_list"
   ]
  },
  {
   "cell_type": "code",
   "execution_count": 6,
   "id": "2a0d961f-7b4c-457c-a6f9-9998c7357436",
   "metadata": {
    "execution": {
     "iopub.execute_input": "2021-09-30T22:59:23.826977Z",
     "iopub.status.busy": "2021-09-30T22:59:23.826515Z",
     "iopub.status.idle": "2021-09-30T22:59:23.883826Z",
     "shell.execute_reply": "2021-09-30T22:59:23.883127Z",
     "shell.execute_reply.started": "2021-09-30T22:59:23.826923Z"
    },
    "tags": []
   },
   "outputs": [
    {
     "name": "stdout",
     "output_type": "stream",
     "text": [
      "FF\n",
      "LSTM\n",
      "Att1\n",
      "Att2\n",
      "Att3\n"
     ]
    }
   ],
   "source": [
    "xp_groups = {}\n",
    "\n",
    "for model in models:\n",
    "    print(model)\n",
    "    path_res = f'sample/same_hand/xp_{model}_same.csv'\n",
    "    xp_groups[model] = pd.read_csv(path_res, index_col=0)"
   ]
  },
  {
   "cell_type": "markdown",
   "id": "728705b6-35fd-4a67-8ce8-d7881118612d",
   "metadata": {},
   "source": [
    "## Part 1: Learning curves"
   ]
  },
  {
   "cell_type": "code",
   "execution_count": 7,
   "id": "638e0a42-3f81-4c4e-ae6b-87140faa6b5f",
   "metadata": {
    "execution": {
     "iopub.execute_input": "2021-09-30T22:54:15.770330Z",
     "iopub.status.busy": "2021-09-30T22:54:15.770133Z",
     "iopub.status.idle": "2021-09-30T22:54:15.775336Z",
     "shell.execute_reply": "2021-09-30T22:54:15.774749Z",
     "shell.execute_reply.started": "2021-09-30T22:54:15.770302Z"
    },
    "tags": []
   },
   "outputs": [],
   "source": [
    "def plot_avg(res_list, label):\n",
    "    moving_avgs = []\n",
    "    for res in res_list:\n",
    "        rewards = res['rewards']\n",
    "        rewards = np.array(rewards)\n",
    "        rewards = rewards.reshape(500,-1)\n",
    "        moving_avg = np.mean(rewards, axis=1)\n",
    "        moving_avgs.append(moving_avg)\n",
    "    moving_avgs = np.array(moving_avgs)\n",
    "    moving_avg_avg = np.mean(moving_avgs, axis=0)\n",
    "    plt.plot(moving_avg_avg, label=label)"
   ]
  },
  {
   "cell_type": "markdown",
   "id": "52b28d0b-7d0e-4d54-9603-54c376c69821",
   "metadata": {},
   "source": [
    "## Part 2: Self-play scores\n",
    "\n",
    "SP score for each model. The mean and std are for differently-seeded agents. Each agent pair plays 100 games for sample."
   ]
  },
  {
   "cell_type": "code",
   "execution_count": 30,
   "id": "aafd6237-f0b5-4e27-83a4-228fefc3ff9e",
   "metadata": {
    "execution": {
     "iopub.execute_input": "2021-09-30T23:12:24.699840Z",
     "iopub.status.busy": "2021-09-30T23:12:24.699360Z",
     "iopub.status.idle": "2021-09-30T23:12:24.710469Z",
     "shell.execute_reply": "2021-09-30T23:12:24.709791Z",
     "shell.execute_reply.started": "2021-09-30T23:12:24.699786Z"
    },
    "tags": []
   },
   "outputs": [
    {
     "name": "stdout",
     "output_type": "stream",
     "text": [
      "0.9 0.034 FF SP\n",
      "0.86 0.037 LSTM SP\n",
      "0.92 0.034 Att1 SP\n",
      "0.82 0.084 Att2 SP\n",
      "0.9 0.13 Att3 SP\n"
     ]
    }
   ],
   "source": [
    "for model in models:\n",
    "    meanscore = np.diag(xp_groups[model]).mean()\n",
    "    stdscore = np.diag(xp_groups[model]).std()\n",
    "    print('{:.2}'.format(meanscore), '{:.2}'.format(stdscore), model, 'SP')"
   ]
  },
  {
   "cell_type": "markdown",
   "id": "fde5c2ed-2d26-425b-b02c-54d3d8558d65",
   "metadata": {
    "execution": {
     "iopub.execute_input": "2021-09-30T23:07:55.341255Z",
     "iopub.status.busy": "2021-09-30T23:07:55.340805Z",
     "iopub.status.idle": "2021-09-30T23:07:55.345603Z",
     "shell.execute_reply": "2021-09-30T23:07:55.344454Z",
     "shell.execute_reply.started": "2021-09-30T23:07:55.341201Z"
    }
   },
   "source": [
    "### Sample a few games for each architecture\n",
    "\n",
    "In models except Att3, the conventions are not dicipherable. Which card to hint/play not only depend on the label on the relavent cards, but also seem to intricately depends on other cards in the hand as well.\n",
    "\n",
    "In Att3, they just hint the playable card one cluster, and the furtherest card in the other cluster."
   ]
  },
  {
   "cell_type": "code",
   "execution_count": 31,
   "id": "3e79c96d-738a-443f-9a22-265e7b937380",
   "metadata": {
    "execution": {
     "iopub.execute_input": "2021-09-30T23:13:48.565733Z",
     "iopub.status.busy": "2021-09-30T23:13:48.565306Z",
     "iopub.status.idle": "2021-09-30T23:13:48.570385Z",
     "shell.execute_reply": "2021-09-30T23:13:48.569337Z",
     "shell.execute_reply.started": "2021-09-30T23:13:48.565682Z"
    },
    "tags": []
   },
   "outputs": [],
   "source": [
    "from sample.sample import sample_games\n",
    "\n",
    "game_num = 2"
   ]
  },
  {
   "cell_type": "code",
   "execution_count": 32,
   "id": "4b395f7e-1a93-40d9-9d9b-57c845e92b38",
   "metadata": {
    "execution": {
     "iopub.execute_input": "2021-09-30T23:13:55.892972Z",
     "iopub.status.busy": "2021-09-30T23:13:55.892495Z",
     "iopub.status.idle": "2021-09-30T23:13:55.910200Z",
     "shell.execute_reply": "2021-09-30T23:13:55.909494Z",
     "shell.execute_reply.started": "2021-09-30T23:13:55.892908Z"
    },
    "tags": []
   },
   "outputs": [
    {
     "name": "stdout",
     "output_type": "stream",
     "text": [
      "===== Game starts with handsize: 5, nlabl: 3, nlab2: 3 =====\n",
      "Playable hand is: 3A\n",
      "Agent 1 hand is: ['2C', '2B', '2C', '3̲A', '1C']\n",
      "Agent 2 hand is: ['2C', '2C', '3̲A', '2B', '1C']\n",
      "Agent 1 hints 3A @  3\n",
      "Agent 2 plays 3A @  2\n",
      "Final reward of game: 1.0\n",
      "\n",
      "\n",
      "===== Game starts with handsize: 5, nlabl: 3, nlab2: 3 =====\n",
      "Playable hand is: 3B\n",
      "Agent 1 hand is: ['3̲B', '1B', '2B', '3A', '1A']\n",
      "Agent 2 hand is: ['2B', '1A', '3A', '1B', '3̲B']\n",
      "Agent 1 hints 2B @  2\n",
      "Agent 2 plays 3B @  4\n",
      "Final reward of game: 1.0\n",
      "\n",
      "\n"
     ]
    },
    {
     "data": {
      "text/plain": [
       "array([1., 1.], dtype=float32)"
      ]
     },
     "execution_count": 32,
     "metadata": {},
     "output_type": "execute_result"
    }
   ],
   "source": [
    "model = 'FF'\n",
    "\n",
    "p1 = res_groups[model][0]['p1']\n",
    "p2 = res_groups[model][0]['p2']\n",
    "\n",
    "sample_games(p1, p2, episodes=game_num, verbose=True)"
   ]
  },
  {
   "cell_type": "code",
   "execution_count": 36,
   "id": "d4c51fa4-7916-4205-aa5a-2d077af7399b",
   "metadata": {
    "execution": {
     "iopub.execute_input": "2021-09-30T23:14:36.137634Z",
     "iopub.status.busy": "2021-09-30T23:14:36.137166Z",
     "iopub.status.idle": "2021-09-30T23:14:36.171747Z",
     "shell.execute_reply": "2021-09-30T23:14:36.171180Z",
     "shell.execute_reply.started": "2021-09-30T23:14:36.137554Z"
    },
    "tags": []
   },
   "outputs": [
    {
     "name": "stdout",
     "output_type": "stream",
     "text": [
      "===== Game starts with handsize: 5, nlabl: 3, nlab2: 3 =====\n",
      "Playable hand is: 2C\n",
      "Agent 1 hand is: ['1B', '3C', '2A', '1A', '2̲C']\n",
      "Agent 2 hand is: ['1B', '1A', '2A', '2̲C', '3C']\n",
      "Agent 1 hints 2C @  4\n",
      "Agent 2 plays 2C @  3\n",
      "Final reward of game: 1.0\n",
      "\n",
      "\n",
      "===== Game starts with handsize: 5, nlabl: 3, nlab2: 3 =====\n",
      "Playable hand is: 2A\n",
      "Agent 1 hand is: ['2̲A', '2C', '1C', '3A', '2̲A']\n",
      "Agent 2 hand is: ['1C', '2̲A', '2C', '2̲A', '3A']\n",
      "Agent 1 hints 2A @  0\n",
      "Agent 2 plays 2A @  3\n",
      "Final reward of game: 1.0\n",
      "\n",
      "\n"
     ]
    },
    {
     "data": {
      "text/plain": [
       "array([1., 1.], dtype=float32)"
      ]
     },
     "execution_count": 36,
     "metadata": {},
     "output_type": "execute_result"
    }
   ],
   "source": [
    "model = 'Att3'\n",
    "\n",
    "p1 = res_groups[model][0]['p1']\n",
    "p2 = res_groups[model][0]['p2']\n",
    "\n",
    "sample_games(p1, p2, episodes=game_num, verbose=True)"
   ]
  },
  {
   "cell_type": "code",
   "execution_count": 37,
   "id": "c3a81f63-dc7e-49f1-85b1-b7c2be7e5dc6",
   "metadata": {
    "execution": {
     "iopub.execute_input": "2021-09-30T23:16:32.836704Z",
     "iopub.status.busy": "2021-09-30T23:16:32.836225Z",
     "iopub.status.idle": "2021-09-30T23:16:32.871195Z",
     "shell.execute_reply": "2021-09-30T23:16:32.870494Z",
     "shell.execute_reply.started": "2021-09-30T23:16:32.836649Z"
    }
   },
   "outputs": [
    {
     "name": "stdout",
     "output_type": "stream",
     "text": [
      "===== Game starts with handsize: 5, nlabl: 3, nlab2: 3 =====\n",
      "Playable hand is: 1B\n",
      "Agent 1 hand is: ['3A', '1C', '1̲B', '3C', '1̲B']\n",
      "Agent 2 hand is: ['1̲B', '1̲B', '3A', '3C', '1C']\n",
      "Agent 1 hints 3C @  3\n",
      "Agent 2 plays 1B @  1\n",
      "Final reward of game: 1.0\n",
      "\n",
      "\n",
      "===== Game starts with handsize: 5, nlabl: 3, nlab2: 3 =====\n",
      "Playable hand is: 3C\n",
      "Agent 1 hand is: ['3A', '3A', '2B', '3A', '3̲C']\n",
      "Agent 2 hand is: ['3A', '2B', '3̲C', '3A', '3A']\n",
      "Agent 1 hints 3A @  1\n",
      "Agent 2 plays 2B @  1\n",
      "Final reward of game: 0.0\n",
      "\n",
      "\n"
     ]
    },
    {
     "data": {
      "text/plain": [
       "array([1., 0.], dtype=float32)"
      ]
     },
     "execution_count": 37,
     "metadata": {},
     "output_type": "execute_result"
    }
   ],
   "source": [
    "model = 'Att3'\n",
    "\n",
    "p1 = res_groups[model][2]['p1']\n",
    "p2 = res_groups[model][2]['p2']\n",
    "\n",
    "sample_games(p1, p2, episodes=game_num, verbose=True)"
   ]
  },
  {
   "cell_type": "markdown",
   "id": "d9e1ea1a-48b3-4319-899a-537581698eb4",
   "metadata": {},
   "source": [
    "## XP matrices"
   ]
  },
  {
   "cell_type": "code",
   "execution_count": 53,
   "id": "eca1bd97-a5cf-4294-9016-eb86830126bd",
   "metadata": {
    "execution": {
     "iopub.execute_input": "2021-09-30T23:30:49.852669Z",
     "iopub.status.busy": "2021-09-30T23:30:49.852191Z",
     "iopub.status.idle": "2021-09-30T23:30:49.860630Z",
     "shell.execute_reply": "2021-09-30T23:30:49.859850Z",
     "shell.execute_reply.started": "2021-09-30T23:30:49.852612Z"
    },
    "tags": []
   },
   "outputs": [],
   "source": [
    "def arg_sort_xp(xpm):\n",
    "    xpm = xpm.values\n",
    "    idx = np.argsort(xpm[:,0])\n",
    "    xpm = xpm[idx][:,idx]\n",
    "    return xpm\n",
    "\n",
    "ff = arg_sort_xp(xp_groups['FF'])\n",
    "lstm = arg_sort_xp(xp_groups['LSTM'])\n",
    "att1 = arg_sort_xp(xp_groups['Att1'])\n",
    "att2 = arg_sort_xp(xp_groups['Att2'])\n",
    "att3 = arg_sort_xp(xp_groups['Att3'])"
   ]
  },
  {
   "cell_type": "code",
   "execution_count": 69,
   "id": "f1dfd0c8-1048-4097-865c-8add35738791",
   "metadata": {
    "execution": {
     "iopub.execute_input": "2021-09-30T23:49:10.470454Z",
     "iopub.status.busy": "2021-09-30T23:49:10.469987Z",
     "iopub.status.idle": "2021-09-30T23:49:10.485413Z",
     "shell.execute_reply": "2021-09-30T23:49:10.484445Z",
     "shell.execute_reply.started": "2021-09-30T23:49:10.470399Z"
    },
    "tags": []
   },
   "outputs": [
    {
     "name": "stdout",
     "output_type": "stream",
     "text": [
      "Feed forward: \n",
      "(0.8978666623433431, 0.03371620313471019, 0.28765714328203884, 0.11413490906803639)\n",
      "Att3: \n",
      "(0.8965714261645362, 0.1334625249189683, 0.47137142899113577, 0.4701025473673431)\n",
      "Att3 cluster 1: \n",
      "(0.7284999936819077, 0.03355219230034552, 0.7329285740852356, 0.028814592717858297)\n",
      "Att3 cluster 2: \n",
      "(1.0, 0.0, 1.0, 0.0)\n"
     ]
    }
   ],
   "source": [
    "def get_table_scores(mat):\n",
    "    sp_score_mean, sp_score_std = np.mean(np.diag(mat)), np.sqrt(np.var(np.diag(mat)))\n",
    "    off_diag = np.where(~np.eye(mat.shape[0],dtype=bool))\n",
    "    xp_score_mean, xp_score_std = np.mean(mat[off_diag]), np.sqrt(np.var(mat[off_diag]))\n",
    "    return sp_score_mean, sp_score_std, xp_score_mean, xp_score_std\n",
    "\n",
    "clus =8  \n",
    "\n",
    "print(\"Feed forward: \")\n",
    "print(get_table_scores(ff))\n",
    "print(\"Att3: \")\n",
    "print(get_table_scores(att3))\n",
    "print(\"Att3 cluster 1: \")\n",
    "print(get_table_scores(att3[:clus,:clus]))\n",
    "print(\"Att3 cluster 2: \")\n",
    "print(get_table_scores(att3[clus:,clus:]))"
   ]
  },
  {
   "cell_type": "code",
   "execution_count": 71,
   "id": "0ca35f12-45db-4806-9eff-2786f4070f99",
   "metadata": {
    "execution": {
     "iopub.execute_input": "2021-10-01T00:10:49.751375Z",
     "iopub.status.busy": "2021-10-01T00:10:49.751035Z",
     "iopub.status.idle": "2021-10-01T00:10:55.074257Z",
     "shell.execute_reply": "2021-10-01T00:10:55.073626Z",
     "shell.execute_reply.started": "2021-10-01T00:10:49.751339Z"
    },
    "tags": []
   },
   "outputs": [
    {
     "data": {
      "image/png": "[encoded data removed]",
      "text/plain": [
       "<Figure size 2500x500 with 6 Axes>"
      ]
     },
     "metadata": {},
     "output_type": "display_data"
    }
   ],
   "source": [
    "fig, axs = plt.subplots(ncols=6, gridspec_kw=dict(width_ratios=[4,4,4,4,4,0.2]), figsize=(25,5))\n",
    "\n",
    "cmap = \"viridis\"\n",
    "# cmap = \"rocket\"\n",
    "\n",
    "\n",
    "sns.heatmap(ff, cbar=False, ax=axs[0], cmap=cmap)\n",
    "sns.heatmap(lstm, cbar=False, ax=axs[1], cmap=cmap)\n",
    "sns.heatmap(att1, cbar=False, ax=axs[2], cmap=cmap)\n",
    "sns.heatmap(att2, cbar=False, ax=axs[3], cmap=cmap)\n",
    "sns.heatmap(att3, cbar=False, ax=axs[4], cmap=cmap)\n",
    "\n",
    "fig.colorbar(axs[3].collections[0], cax=axs[5])\n",
    "\n",
    "for i in range(5):\n",
    "    axs[i].set_ylabel('Player 1: Hinter Agent')\n",
    "    axs[i].set_xlabel('Player 2: Guesser Agent')\n",
    "    axs[i].title.set_text(model_names[i])\n",
    "\n",
    "plt.show()"
   ]
  },
  {
   "cell_type": "code",
   "execution_count": null,
   "id": "5ca94396-1eb4-41ed-b3b7-9e327f2a35d8",
   "metadata": {},
   "outputs": [],
   "source": []
  }
 ],
 "metadata": {
  "kernelspec": {
   "display_name": "Python 3",
   "language": "python",
   "name": "python3"
  },
  "language_info": {
   "codemirror_mode": {
    "name": "ipython",
    "version": 3
   },
   "file_extension": ".py",
   "mimetype": "text/x-python",
   "name": "python",
   "nbconvert_exporter": "python",
   "pygments_lexer": "ipython3",
   "version": "3.7.7"
  }
 },
 "nbformat": 4,
 "nbformat_minor": 5
}
