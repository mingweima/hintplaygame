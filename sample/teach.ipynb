{
 "cells": [
  {
   "cell_type": "code",
   "execution_count": 16,
   "id": "614f7e44-2022-4c02-b663-88347762c136",
   "metadata": {
    "execution": {
     "iopub.execute_input": "2021-09-23T00:52:09.383431Z",
     "iopub.status.busy": "2021-09-23T00:52:09.382938Z",
     "iopub.status.idle": "2021-09-23T00:52:09.392926Z",
     "shell.execute_reply": "2021-09-23T00:52:09.391887Z",
     "shell.execute_reply.started": "2021-09-23T00:52:09.383404Z"
    },
    "tags": []
   },
   "outputs": [
    {
     "ename": "ModuleNotFoundError",
     "evalue": "No module named 'pickle5'",
     "output_type": "error",
     "traceback": [
      "\u001b[0;31m---------------------------------------------------------------------------\u001b[0m",
      "\u001b[0;31mModuleNotFoundError\u001b[0m                       Traceback (most recent call last)",
      "\u001b[0;32m/var/folders/7d/d2gm2vw12clccd1zkl_d37f00000gn/T/ipykernel_14747/431473805.py\u001b[0m in \u001b[0;36m<module>\u001b[0;34m\u001b[0m\n\u001b[1;32m      3\u001b[0m \u001b[0;32mimport\u001b[0m \u001b[0mglob\u001b[0m\u001b[0;34m\u001b[0m\u001b[0;34m\u001b[0m\u001b[0m\n\u001b[1;32m      4\u001b[0m \u001b[0;32mimport\u001b[0m \u001b[0mos\u001b[0m\u001b[0;34m\u001b[0m\u001b[0;34m\u001b[0m\u001b[0m\n\u001b[0;32m----> 5\u001b[0;31m \u001b[0;32mimport\u001b[0m \u001b[0mpickle5\u001b[0m\u001b[0;34m\u001b[0m\u001b[0;34m\u001b[0m\u001b[0m\n\u001b[0m\u001b[1;32m      6\u001b[0m \u001b[0;32mimport\u001b[0m \u001b[0msys\u001b[0m\u001b[0;34m\u001b[0m\u001b[0;34m\u001b[0m\u001b[0m\n\u001b[1;32m      7\u001b[0m \u001b[0;32mfrom\u001b[0m \u001b[0mcollections\u001b[0m \u001b[0;32mimport\u001b[0m \u001b[0mnamedtuple\u001b[0m\u001b[0;34m\u001b[0m\u001b[0;34m\u001b[0m\u001b[0m\n",
      "\u001b[0;31mModuleNotFoundError\u001b[0m: No module named 'pickle5'"
     ]
    }
   ],
   "source": [
    "import argparse\n",
    "import datetime\n",
    "import glob\n",
    "import os\n",
    "import pickle5\n",
    "import sys\n",
    "from collections import namedtuple\n",
    "\n",
    "import numpy as np\n",
    "import torch\n",
    "\n",
    "sys.path.append(os.getcwd())\n",
    "sys.path.append(\"\")"
   ]
  },
  {
   "cell_type": "code",
   "execution_count": 15,
   "id": "83904d14-ad7e-42be-9701-823f0499ac6e",
   "metadata": {
    "execution": {
     "iopub.execute_input": "2021-09-23T00:52:06.184568Z",
     "iopub.status.busy": "2021-09-23T00:52:06.184297Z",
     "iopub.status.idle": "2021-09-23T00:52:06.193239Z",
     "shell.execute_reply": "2021-09-23T00:52:06.192294Z",
     "shell.execute_reply.started": "2021-09-23T00:52:06.184538Z"
    },
    "tags": []
   },
   "outputs": [
    {
     "ename": "NameError",
     "evalue": "name 'pickle5' is not defined",
     "output_type": "error",
     "traceback": [
      "\u001b[0;31m---------------------------------------------------------------------------\u001b[0m",
      "\u001b[0;31mNameError\u001b[0m                                 Traceback (most recent call last)",
      "\u001b[0;32m/var/folders/7d/d2gm2vw12clccd1zkl_d37f00000gn/T/ipykernel_14747/3825817085.py\u001b[0m in \u001b[0;36m<module>\u001b[0;34m\u001b[0m\n\u001b[1;32m      1\u001b[0m \u001b[0;32mwith\u001b[0m \u001b[0mopen\u001b[0m\u001b[0;34m(\u001b[0m\u001b[0;34m'../res/teach/FF_hand_5_l1_3_l2_3_Att3_hand_5_l1_3_l2_3/2021-09-21 23:03:17.218224.pkl'\u001b[0m\u001b[0;34m,\u001b[0m \u001b[0;34m'rb'\u001b[0m\u001b[0;34m)\u001b[0m \u001b[0;32mas\u001b[0m \u001b[0mf\u001b[0m\u001b[0;34m:\u001b[0m\u001b[0;34m\u001b[0m\u001b[0;34m\u001b[0m\u001b[0m\n\u001b[0;32m----> 2\u001b[0;31m     \u001b[0matt_teach_ff\u001b[0m \u001b[0;34m=\u001b[0m \u001b[0mpickle5\u001b[0m\u001b[0;34m.\u001b[0m\u001b[0mload\u001b[0m\u001b[0;34m(\u001b[0m\u001b[0mf\u001b[0m\u001b[0;34m)\u001b[0m\u001b[0;34m\u001b[0m\u001b[0;34m\u001b[0m\u001b[0m\n\u001b[0m",
      "\u001b[0;31mNameError\u001b[0m: name 'pickle5' is not defined"
     ]
    }
   ],
   "source": [
    "with open('../res/teach/FF_hand_5_l1_3_l2_3_Att3_hand_5_l1_3_l2_3/2021-09-21 23:03:17.218224.pkl', 'rb') as f:\n",
    "    att_teach_ff = pickle5.load(f)"
   ]
  },
  {
   "cell_type": "code",
   "execution_count": 17,
   "id": "670b164c-4844-4706-b39f-a1b5f986c6ca",
   "metadata": {
    "execution": {
     "iopub.execute_input": "2021-09-23T00:53:48.115469Z",
     "iopub.status.busy": "2021-09-23T00:53:48.114964Z",
     "iopub.status.idle": "2021-09-23T00:53:51.216266Z",
     "shell.execute_reply": "2021-09-23T00:53:51.215100Z",
     "shell.execute_reply.started": "2021-09-23T00:53:48.115439Z"
    }
   },
   "outputs": [
    {
     "name": "stdout",
     "output_type": "stream",
     "text": [
      "Collecting pickle5\n",
      "  Using cached pickle5-0.0.11.tar.gz (132 kB)\n",
      "Building wheels for collected packages: pickle5\n",
      "  Building wheel for pickle5 (setup.py) ... \u001b[?25lerror\n",
      "\u001b[31m  ERROR: Command errored out with exit status 1:\n",
      "   command: /Users/mmw/opt/anaconda3/envs/hanabi/bin/python -u -c 'import io, os, sys, setuptools, tokenize; sys.argv[0] = '\"'\"'/private/var/folders/7d/d2gm2vw12clccd1zkl_d37f00000gn/T/pip-install-nll8a3f5/pickle5_99fda3a34d7c453c8ba14acabf889855/setup.py'\"'\"'; __file__='\"'\"'/private/var/folders/7d/d2gm2vw12clccd1zkl_d37f00000gn/T/pip-install-nll8a3f5/pickle5_99fda3a34d7c453c8ba14acabf889855/setup.py'\"'\"';f = getattr(tokenize, '\"'\"'open'\"'\"', open)(__file__) if os.path.exists(__file__) else io.StringIO('\"'\"'from setuptools import setup; setup()'\"'\"');code = f.read().replace('\"'\"'\\r\\n'\"'\"', '\"'\"'\\n'\"'\"');f.close();exec(compile(code, __file__, '\"'\"'exec'\"'\"'))' bdist_wheel -d /private/var/folders/7d/d2gm2vw12clccd1zkl_d37f00000gn/T/pip-wheel-ezgl6ky1\n",
      "       cwd: /private/var/folders/7d/d2gm2vw12clccd1zkl_d37f00000gn/T/pip-install-nll8a3f5/pickle5_99fda3a34d7c453c8ba14acabf889855/\n",
      "  Complete output (23 lines):\n",
      "  running bdist_wheel\n",
      "  running build\n",
      "  running build_py\n",
      "  creating build\n",
      "  creating build/lib.macosx-10.9-x86_64-3.7\n",
      "  creating build/lib.macosx-10.9-x86_64-3.7/pickle5\n",
      "  copying pickle5/__init__.py -> build/lib.macosx-10.9-x86_64-3.7/pickle5\n",
      "  copying pickle5/pickletools.py -> build/lib.macosx-10.9-x86_64-3.7/pickle5\n",
      "  copying pickle5/pickle.py -> build/lib.macosx-10.9-x86_64-3.7/pickle5\n",
      "  creating build/lib.macosx-10.9-x86_64-3.7/pickle5/test\n",
      "  copying pickle5/test/test_pickle.py -> build/lib.macosx-10.9-x86_64-3.7/pickle5/test\n",
      "  copying pickle5/test/pickletester.py -> build/lib.macosx-10.9-x86_64-3.7/pickle5/test\n",
      "  copying pickle5/test/test_picklebuffer.py -> build/lib.macosx-10.9-x86_64-3.7/pickle5/test\n",
      "  copying pickle5/test/__init__.py -> build/lib.macosx-10.9-x86_64-3.7/pickle5/test\n",
      "  running build_ext\n",
      "  building 'pickle5._pickle' extension\n",
      "  creating build/temp.macosx-10.9-x86_64-3.7\n",
      "  creating build/temp.macosx-10.9-x86_64-3.7/pickle5\n",
      "  gcc -Wno-unused-result -Wsign-compare -Wunreachable-code -DNDEBUG -g -fwrapv -O3 -Wall -Wstrict-prototypes -I/Users/mmw/opt/anaconda3/envs/hanabi/include -arch x86_64 -I/Users/mmw/opt/anaconda3/envs/hanabi/include -arch x86_64 -I/Users/mmw/opt/anaconda3/envs/hanabi/include/python3.7m -c pickle5/_pickle.c -o build/temp.macosx-10.9-x86_64-3.7/pickle5/_pickle.o -std=c99\n",
      "  xcrun: error: active developer path (\"/Applications/Xcode.app/Contents/Developer\") does not exist\n",
      "  Use `sudo xcode-select --switch path/to/Xcode.app` to specify the Xcode that you wish to use for command line developer tools, or use `xcode-select --install` to install the standalone command line developer tools.\n",
      "  See `man xcode-select` for more details.\n",
      "  error: command 'gcc' failed with exit status 1\n",
      "  ----------------------------------------\u001b[0m\n",
      "\u001b[31m  ERROR: Failed building wheel for pickle5\u001b[0m\n",
      "\u001b[?25h  Running setup.py clean for pickle5\n",
      "Failed to build pickle5\n",
      "Installing collected packages: pickle5\n",
      "    Running setup.py install for pickle5 ... \u001b[?25lerror\n",
      "\u001b[31m    ERROR: Command errored out with exit status 1:\n",
      "     command: /Users/mmw/opt/anaconda3/envs/hanabi/bin/python -u -c 'import io, os, sys, setuptools, tokenize; sys.argv[0] = '\"'\"'/private/var/folders/7d/d2gm2vw12clccd1zkl_d37f00000gn/T/pip-install-nll8a3f5/pickle5_99fda3a34d7c453c8ba14acabf889855/setup.py'\"'\"'; __file__='\"'\"'/private/var/folders/7d/d2gm2vw12clccd1zkl_d37f00000gn/T/pip-install-nll8a3f5/pickle5_99fda3a34d7c453c8ba14acabf889855/setup.py'\"'\"';f = getattr(tokenize, '\"'\"'open'\"'\"', open)(__file__) if os.path.exists(__file__) else io.StringIO('\"'\"'from setuptools import setup; setup()'\"'\"');code = f.read().replace('\"'\"'\\r\\n'\"'\"', '\"'\"'\\n'\"'\"');f.close();exec(compile(code, __file__, '\"'\"'exec'\"'\"'))' install --record /private/var/folders/7d/d2gm2vw12clccd1zkl_d37f00000gn/T/pip-record-t8nm1trh/install-record.txt --single-version-externally-managed --compile --install-headers /Users/mmw/opt/anaconda3/envs/hanabi/include/python3.7m/pickle5\n",
      "         cwd: /private/var/folders/7d/d2gm2vw12clccd1zkl_d37f00000gn/T/pip-install-nll8a3f5/pickle5_99fda3a34d7c453c8ba14acabf889855/\n",
      "    Complete output (23 lines):\n",
      "    running install\n",
      "    running build\n",
      "    running build_py\n",
      "    creating build\n",
      "    creating build/lib.macosx-10.9-x86_64-3.7\n",
      "    creating build/lib.macosx-10.9-x86_64-3.7/pickle5\n",
      "    copying pickle5/__init__.py -> build/lib.macosx-10.9-x86_64-3.7/pickle5\n",
      "    copying pickle5/pickletools.py -> build/lib.macosx-10.9-x86_64-3.7/pickle5\n",
      "    copying pickle5/pickle.py -> build/lib.macosx-10.9-x86_64-3.7/pickle5\n",
      "    creating build/lib.macosx-10.9-x86_64-3.7/pickle5/test\n",
      "    copying pickle5/test/test_pickle.py -> build/lib.macosx-10.9-x86_64-3.7/pickle5/test\n",
      "    copying pickle5/test/pickletester.py -> build/lib.macosx-10.9-x86_64-3.7/pickle5/test\n",
      "    copying pickle5/test/test_picklebuffer.py -> build/lib.macosx-10.9-x86_64-3.7/pickle5/test\n",
      "    copying pickle5/test/__init__.py -> build/lib.macosx-10.9-x86_64-3.7/pickle5/test\n",
      "    running build_ext\n",
      "    building 'pickle5._pickle' extension\n",
      "    creating build/temp.macosx-10.9-x86_64-3.7\n",
      "    creating build/temp.macosx-10.9-x86_64-3.7/pickle5\n",
      "    gcc -Wno-unused-result -Wsign-compare -Wunreachable-code -DNDEBUG -g -fwrapv -O3 -Wall -Wstrict-prototypes -I/Users/mmw/opt/anaconda3/envs/hanabi/include -arch x86_64 -I/Users/mmw/opt/anaconda3/envs/hanabi/include -arch x86_64 -I/Users/mmw/opt/anaconda3/envs/hanabi/include/python3.7m -c pickle5/_pickle.c -o build/temp.macosx-10.9-x86_64-3.7/pickle5/_pickle.o -std=c99\n",
      "    xcrun: error: active developer path (\"/Applications/Xcode.app/Contents/Developer\") does not exist\n",
      "    Use `sudo xcode-select --switch path/to/Xcode.app` to specify the Xcode that you wish to use for command line developer tools, or use `xcode-select --install` to install the standalone command line developer tools.\n",
      "    See `man xcode-select` for more details.\n",
      "    error: command 'gcc' failed with exit status 1\n",
      "    ----------------------------------------\u001b[0m\n",
      "\u001b[31mERROR: Command errored out with exit status 1: /Users/mmw/opt/anaconda3/envs/hanabi/bin/python -u -c 'import io, os, sys, setuptools, tokenize; sys.argv[0] = '\"'\"'/private/var/folders/7d/d2gm2vw12clccd1zkl_d37f00000gn/T/pip-install-nll8a3f5/pickle5_99fda3a34d7c453c8ba14acabf889855/setup.py'\"'\"'; __file__='\"'\"'/private/var/folders/7d/d2gm2vw12clccd1zkl_d37f00000gn/T/pip-install-nll8a3f5/pickle5_99fda3a34d7c453c8ba14acabf889855/setup.py'\"'\"';f = getattr(tokenize, '\"'\"'open'\"'\"', open)(__file__) if os.path.exists(__file__) else io.StringIO('\"'\"'from setuptools import setup; setup()'\"'\"');code = f.read().replace('\"'\"'\\r\\n'\"'\"', '\"'\"'\\n'\"'\"');f.close();exec(compile(code, __file__, '\"'\"'exec'\"'\"'))' install --record /private/var/folders/7d/d2gm2vw12clccd1zkl_d37f00000gn/T/pip-record-t8nm1trh/install-record.txt --single-version-externally-managed --compile --install-headers /Users/mmw/opt/anaconda3/envs/hanabi/include/python3.7m/pickle5 Check the logs for full command output.\u001b[0m\n",
      "\u001b[?25h"
     ]
    }
   ],
   "source": [
    "!pip3 install pickle5\n"
   ]
  },
  {
   "cell_type": "code",
   "execution_count": null,
   "id": "028eb91f-9c59-4ac5-adea-c0ab9f6e86fb",
   "metadata": {},
   "outputs": [],
   "source": []
  }
 ],
 "metadata": {
  "kernelspec": {
   "display_name": "Python 3 (ipykernel)",
   "language": "python",
   "name": "python3"
  },
  "language_info": {
   "codemirror_mode": {
    "name": "ipython",
    "version": 3
   },
   "file_extension": ".py",
   "mimetype": "text/x-python",
   "name": "python",
   "nbconvert_exporter": "python",
   "pygments_lexer": "ipython3",
   "version": "3.7.10"
  }
 },
 "nbformat": 4,
 "nbformat_minor": 5
}
