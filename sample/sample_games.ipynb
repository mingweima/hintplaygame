{
 "cells": [
  {
   "cell_type": "code",
   "execution_count": 1,
   "metadata": {
    "execution": {
     "iopub.execute_input": "2021-09-30T16:31:41.010001Z",
     "iopub.status.busy": "2021-09-30T16:31:41.009604Z",
     "iopub.status.idle": "2021-09-30T16:31:42.529505Z",
     "shell.execute_reply": "2021-09-30T16:31:42.528415Z",
     "shell.execute_reply.started": "2021-09-30T16:31:41.009847Z"
    },
    "tags": []
   },
   "outputs": [
    {
     "ename": "ModuleNotFoundError",
     "evalue": "No module named 'gym'",
     "output_type": "error",
     "traceback": [
      "\u001b[0;31m---------------------------------------------------------------------------\u001b[0m",
      "\u001b[0;31mModuleNotFoundError\u001b[0m                       Traceback (most recent call last)",
      "\u001b[0;32m<ipython-input-1-6514fc00d57c>\u001b[0m in \u001b[0;36m<module>\u001b[0;34m\u001b[0m\n\u001b[1;32m     20\u001b[0m \u001b[0;34m\u001b[0m\u001b[0m\n\u001b[1;32m     21\u001b[0m \u001b[0;34m\u001b[0m\u001b[0m\n\u001b[0;32m---> 22\u001b[0;31m \u001b[0;32mfrom\u001b[0m \u001b[0mgame\u001b[0m\u001b[0;34m.\u001b[0m\u001b[0mhint_play_game\u001b[0m \u001b[0;32mimport\u001b[0m \u001b[0mTwoRoundHintGame\u001b[0m\u001b[0;34m\u001b[0m\u001b[0;34m\u001b[0m\u001b[0m\n\u001b[0m\u001b[1;32m     23\u001b[0m \u001b[0;32mfrom\u001b[0m \u001b[0mtrain_qlearner\u001b[0m \u001b[0;32mimport\u001b[0m \u001b[0mobs_to_agent\u001b[0m\u001b[0;34m\u001b[0m\u001b[0;34m\u001b[0m\u001b[0m\n\u001b[1;32m     24\u001b[0m \u001b[0;34m\u001b[0m\u001b[0m\n",
      "\u001b[0;32m~/hintplaygame/game/hint_play_game.py\u001b[0m in \u001b[0;36m<module>\u001b[0;34m\u001b[0m\n\u001b[1;32m      8\u001b[0m \u001b[0msys\u001b[0m\u001b[0;34m.\u001b[0m\u001b[0mpath\u001b[0m\u001b[0;34m.\u001b[0m\u001b[0mappend\u001b[0m\u001b[0;34m(\u001b[0m\u001b[0;34m\"..\"\u001b[0m\u001b[0;34m)\u001b[0m\u001b[0;34m\u001b[0m\u001b[0;34m\u001b[0m\u001b[0m\n\u001b[1;32m      9\u001b[0m \u001b[0;34m\u001b[0m\u001b[0m\n\u001b[0;32m---> 10\u001b[0;31m \u001b[0;32mimport\u001b[0m \u001b[0mgym\u001b[0m\u001b[0;34m\u001b[0m\u001b[0;34m\u001b[0m\u001b[0m\n\u001b[0m\u001b[1;32m     11\u001b[0m \u001b[0;32mimport\u001b[0m \u001b[0mnumpy\u001b[0m \u001b[0;32mas\u001b[0m \u001b[0mnp\u001b[0m\u001b[0;34m\u001b[0m\u001b[0;34m\u001b[0m\u001b[0m\n\u001b[1;32m     12\u001b[0m \u001b[0;32mimport\u001b[0m \u001b[0mtorch\u001b[0m\u001b[0;34m\u001b[0m\u001b[0;34m\u001b[0m\u001b[0m\n",
      "\u001b[0;31mModuleNotFoundError\u001b[0m: No module named 'gym'"
     ]
    }
   ],
   "source": [
    "import glob\n",
    "import os\n",
    "import pickle\n",
    "import sys\n",
    "import inspect\n",
    "\n",
    "sys.path.append(os.getcwd())\n",
    "sys.path.append(\"\")\n",
    "currentdir = os.path.dirname(os.path.abspath(inspect.getfile(inspect.currentframe())))\n",
    "parentdir = os.path.dirname(currentdir)\n",
    "sys.path.insert(0, parentdir) \n",
    "\n",
    "import torch\n",
    "\n",
    "# if gpu is to be used\n",
    "device = torch.device(\"cuda\" if torch.cuda.is_available() else \"cpu\")\n",
    "\n",
    "import numpy as np\n",
    "from pandas import DataFrame\n",
    "\n",
    "\n",
    "from game.hint_play_game import TwoRoundHintGame\n",
    "from train_qlearner import obs_to_agent\n",
    "\n",
    "from game.hyperparams import Hp\n",
    "from agent.qlearner import QLearner\n",
    "\n",
    "\n",
    "def sample_games(p1, p2, episodes=10000, verbose=False):\n",
    "    hp1 = p1.hp\n",
    "    hp2 = p2.hp\n",
    "    env = TwoRoundHintGame(hp=hp1)\n",
    "\n",
    "    rewards = []\n",
    "\n",
    "    print(f'agents are {hp1.agent_type} and {hp2.agent_type}')\n",
    "\n",
    "    for i_episode in range(episodes):\n",
    "        # Initialize the environment and state\n",
    "        obs1, info = env.reset()\n",
    "        if verbose:\n",
    "            env.render()\n",
    "        obs1_a1, obs1_a2 = obs_to_agent(obs1, hp=hp1)\n",
    "        if hp1.agent_type != 'FF':\n",
    "            obs1_a1 = obs1_a1.reshape(-1, hp1.nlab1 + hp1.nlab2).T\n",
    "        # P1 select and perform a hint\n",
    "        # obs1_a1 = torch.tensor(obs1_a1, device=device)\n",
    "        a1 = p1.select_action(torch.tensor([obs1_a1], device=device), evaluate=True)\n",
    "        obs2, _, _, _ = env.step(a1)\n",
    "        if verbose:\n",
    "            env.render()\n",
    "        # P2 plays a card\n",
    "        obs2_a1, obs2_a2 = obs_to_agent(obs2, hp=hp2)\n",
    "        if hp2.agent_type != 'FF':\n",
    "            obs2_a2 = obs2_a2.reshape(-1, hp2.nlab1 + hp2.nlab2).T\n",
    "        a2 = p2.select_action(torch.tensor([obs2_a2], device=device), evaluate=True)\n",
    "        _, r, _, _ = env.step(a2)\n",
    "        r = torch.tensor([r[0]], device=device)\n",
    "        rewards.append(r.numpy()[0])\n",
    "        if verbose:\n",
    "            env.render()\n",
    "    return np.array(rewards)"
   ]
  },
  {
   "cell_type": "code",
   "execution_count": null,
   "metadata": {},
   "outputs": [],
   "source": [
    "agent1s = []\n",
    "agent2s = []\n",
    "for filename in glob.glob(os.path.join(\"res/Att3_hs_5_l1_3_l2_3_TrueTrue3000000\", \"*.pkl\")):\n",
    "       with open(filename, \"rb\") as f:\n",
    "           res = pickle.load(f)\n",
    "           agent1s += [res['p1']]\n",
    "           agent2s += [res['p2']]\n",
    "print(sample_games_att(agent1s[1], agent2s[1], episodes=10, verbose=True))"
   ]
  }
 ],
 "metadata": {
  "kernelspec": {
   "display_name": "Python 3",
   "language": "python",
   "name": "python3"
  },
  "language_info": {
   "codemirror_mode": {
    "name": "ipython",
    "version": 3
   },
   "file_extension": ".py",
   "mimetype": "text/x-python",
   "name": "python",
   "nbconvert_exporter": "python",
   "pygments_lexer": "ipython3",
   "version": "3.7.7"
  }
 },
 "nbformat": 4,
 "nbformat_minor": 4
}
