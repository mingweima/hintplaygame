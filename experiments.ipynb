{
 "cells": [
  {
   "cell_type": "markdown",
   "metadata": {
    "collapsed": true
   },
   "source": [
    "## Cross play matrix for each architecture"
   ]
  },
  {
   "cell_type": "code",
   "execution_count": 45,
   "metadata": {},
   "outputs": [],
   "source": [
    "import numpy as np\n",
    "import pandas as pd\n",
    "import matplotlib.pyplot as plt\n",
    "import seaborn as sns\n",
    "\n",
    "ff = pd.read_csv('xp_ff.csv')\n",
    "ff = ff.iloc[:,1:].values\n",
    "idx = np.argsort(ff[:,0])\n",
    "ff = ff[idx][:,idx]\n",
    "\n",
    "lstm = pd.read_csv('xp_lstm.csv')\n",
    "lstm = lstm.iloc[:,1:].values\n",
    "idx = np.argsort(lstm[:,0])\n",
    "lstm = lstm[idx][:,idx]\n",
    "\n",
    "att3 = pd.read_csv('xp_att3.csv')\n",
    "att3 = att3.iloc[:15,1:16].values\n",
    "idx = np.argsort(att3[:,0])\n",
    "att3 = att3[idx][:,idx]"
   ]
  },
  {
   "cell_type": "code",
   "execution_count": 46,
   "metadata": {},
   "outputs": [
    {
     "data": {
      "image/png": "[encoded data removed]",
      "text/plain": [
       "<Figure size 1080x360 with 4 Axes>"
      ]
     },
     "metadata": {
      "needs_background": "light"
     },
     "output_type": "display_data"
    }
   ],
   "source": [
    "fig, axs = plt.subplots(ncols=4, gridspec_kw=dict(width_ratios=[4,4,4,0.2]), figsize=(15,5))\n",
    "\n",
    "sns.heatmap(ff, cbar=False, ax=axs[0], cmap=\"mako\")\n",
    "sns.heatmap(lstm, cbar=False, ax=axs[1], cmap=\"mako\")\n",
    "sns.heatmap(att3, cbar=False, ax=axs[2], cmap=\"mako\")\n",
    "\n",
    "fig.colorbar(axs[2].collections[0], cax=axs[3])\n",
    "\n",
    "plt.show()"
   ]
  },
  {
   "cell_type": "code",
   "execution_count": 54,
   "metadata": {},
   "outputs": [
    {
     "name": "stdout",
     "output_type": "stream",
     "text": [
      "Feed forward: \n",
      "(0.3584666669368744, 0.021737421651472206, 0.3244047619047619, 0.01606721000295828)\n",
      "LSTM: \n",
      "(0.32180000146230064, 0.020047274077942958, 0.3166428574493953, 0.015126798493871363)\n",
      "Att3: \n",
      "(0.7109333316485087, 0.03570894023871032, 0.4661904783209875, 0.31870244793661207)\n",
      "Att3 cluster 1: \n",
      "(0.7706666588783264, 0.020237463216564593, 0.7641666630903879, 0.013132866859269)\n",
      "Att3 cluster 2: \n",
      "(0.6959999998410543, 0.019403602564900913, 0.6929090944203463, 0.017029142371694526)\n"
     ]
    }
   ],
   "source": [
    "def get_table_scores(mat):\n",
    "    sp_score_mean, sp_score_std = np.mean(np.diag(mat)), np.sqrt(np.var(np.diag(mat)))\n",
    "    off_diag = np.where(~np.eye(mat.shape[0],dtype=bool))\n",
    "    xp_score_mean, xp_score_std = np.mean(mat[off_diag]), np.sqrt(np.var(mat[off_diag]))\n",
    "    return sp_score_mean, sp_score_std, xp_score_mean, xp_score_std\n",
    "\n",
    "print(\"Feed forward: \")\n",
    "print(get_table_scores(ff))\n",
    "print(\"LSTM: \")\n",
    "print(get_table_scores(lstm))\n",
    "print(\"Att3: \")\n",
    "print(get_table_scores(att3))\n",
    "print(\"Att3 cluster 1: \")\n",
    "print(get_table_scores(att3[:3,:3]))\n",
    "print(\"Att3 cluster 2: \")\n",
    "print(get_table_scores(att3[3:,3:]))"
   ]
  },
  {
   "cell_type": "code",
   "execution_count": null,
   "metadata": {},
   "outputs": [],
   "source": []
  }
 ],
 "metadata": {
  "kernelspec": {
   "display_name": "Python 3",
   "language": "python",
   "name": "python3"
  },
  "language_info": {
   "codemirror_mode": {
    "name": "ipython",
    "version": 3
   },
   "file_extension": ".py",
   "mimetype": "text/x-python",
   "name": "python",
   "nbconvert_exporter": "python",
   "pygments_lexer": "ipython3",
   "version": "3.8.5"
  }
 },
 "nbformat": 4,
 "nbformat_minor": 1
}
