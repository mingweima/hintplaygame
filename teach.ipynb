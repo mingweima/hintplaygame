{
 "cells": [
  {
   "cell_type": "code",
   "execution_count": 1,
   "id": "614f7e44-2022-4c02-b663-88347762c136",
   "metadata": {
    "execution": {
     "iopub.execute_input": "2021-09-24T22:04:11.399954Z",
     "iopub.status.busy": "2021-09-24T22:04:11.399543Z",
     "iopub.status.idle": "2021-09-24T22:04:12.126953Z",
     "shell.execute_reply": "2021-09-24T22:04:12.126083Z",
     "shell.execute_reply.started": "2021-09-24T22:04:11.399874Z"
    },
    "tags": []
   },
   "outputs": [
    {
     "ename": "ModuleNotFoundError",
     "evalue": "No module named 'game'",
     "output_type": "error",
     "traceback": [
      "\u001b[0;31m---------------------------------------------------------------------------\u001b[0m",
      "\u001b[0;31mModuleNotFoundError\u001b[0m                       Traceback (most recent call last)",
      "\u001b[0;32m/var/folders/7d/d2gm2vw12clccd1zkl_d37f00000gn/T/ipykernel_34519/2052756780.py\u001b[0m in \u001b[0;36m<module>\u001b[0;34m\u001b[0m\n\u001b[1;32m     13\u001b[0m \u001b[0;32mfrom\u001b[0m \u001b[0mpandas\u001b[0m \u001b[0;32mimport\u001b[0m \u001b[0mDataFrame\u001b[0m\u001b[0;34m\u001b[0m\u001b[0;34m\u001b[0m\u001b[0m\n\u001b[1;32m     14\u001b[0m \u001b[0;34m\u001b[0m\u001b[0m\n\u001b[0;32m---> 15\u001b[0;31m \u001b[0;32mfrom\u001b[0m \u001b[0mgame\u001b[0m\u001b[0;34m.\u001b[0m\u001b[0mhint_play_game\u001b[0m \u001b[0;32mimport\u001b[0m \u001b[0mTwoRoundHintGame\u001b[0m\u001b[0;34m\u001b[0m\u001b[0;34m\u001b[0m\u001b[0m\n\u001b[0m\u001b[1;32m     16\u001b[0m \u001b[0;32mfrom\u001b[0m \u001b[0mtrain_qlearner\u001b[0m \u001b[0;32mimport\u001b[0m \u001b[0mobs_to_agent\u001b[0m\u001b[0;34m\u001b[0m\u001b[0;34m\u001b[0m\u001b[0m\n\u001b[1;32m     17\u001b[0m \u001b[0;34m\u001b[0m\u001b[0m\n",
      "\u001b[0;31mModuleNotFoundError\u001b[0m: No module named 'game'"
     ]
    }
   ],
   "source": [
    "import argparse\n",
    "import datetime\n",
    "import glob\n",
    "import os\n",
    "import pickle5 as pickle\n",
    "import sys\n",
    "from collections import namedtuple\n",
    "\n",
    "import numpy as np\n",
    "import torch\n",
    "from pandas import DataFrame\n",
    "import numpy as np\n",
    "from pandas import DataFrame\n",
    "\n",
    "from game.hint_play_game import TwoRoundHintGame\n",
    "from train_qlearner import obs_to_agent\n",
    "\n",
    "from game.hyperparams import Hp\n",
    "from agent.qlearner import QLearner\n",
    "\n",
    "sys.path.append(os.getcwd())\n",
    "sys.path.append(\"\")"
   ]
  },
  {
   "cell_type": "code",
   "execution_count": 4,
   "id": "028eb91f-9c59-4ac5-adea-c0ab9f6e86fb",
   "metadata": {
    "execution": {
     "iopub.execute_input": "2021-09-24T22:02:28.799936Z",
     "iopub.status.busy": "2021-09-24T22:02:28.799655Z",
     "iopub.status.idle": "2021-09-24T22:02:28.809096Z",
     "shell.execute_reply": "2021-09-24T22:02:28.808420Z",
     "shell.execute_reply.started": "2021-09-24T22:02:28.799904Z"
    },
    "tags": []
   },
   "outputs": [],
   "source": [
    "def sample_games(p1, p2, episodes=10000, verbose=False):\n",
    "    hp1 = p1.hp\n",
    "    hp2 = p2.hp\n",
    "    env = TwoRoundHintGame(hp=hp1)\n",
    "\n",
    "    rewards = []\n",
    "    \n",
    "    print(f'agents are {hp1.agent_type} and {hp2.agent_type}')\n",
    "\n",
    "    for i_episode in range(episodes):\n",
    "        # Initialize the environment and state\n",
    "        obs1, info = env.reset()\n",
    "        if verbose:\n",
    "            env.render()\n",
    "        obs1_a1, obs1_a2 = obs_to_agent(obs1, hp=hp1)\n",
    "        if hp1.agent_type != 'FF':\n",
    "            obs1_a1 = obs1_a1.reshape(-1, hp1.nlab1 + hp1.nlab2).T\n",
    "        # P1 select and perform a hint\n",
    "        # obs1_a1 = torch.tensor(obs1_a1, device=device)\n",
    "        a1 = p1.select_action(torch.tensor([obs1_a1], device=device), evaluate=True)\n",
    "        obs2, _, _, _ = env.step(a1)\n",
    "        if verbose:\n",
    "            env.render()\n",
    "        # P2 plays a card\n",
    "        obs2_a1, obs2_a2 = obs_to_agent(obs2, hp=hp)\n",
    "        if hp2.agent_type != 'FF':\n",
    "            obs2_a2 = obs2_a2.reshape(-1, hp2.nlab1 + hp2.nlab2).T\n",
    "        a2 = p2.select_action(torch.tensor([obs2_a2], device=device), evaluate=True)\n",
    "        _, r, _, _ = env.step(a2)\n",
    "        r = torch.tensor([r[0]], device=device)\n",
    "        rewards.append(r.numpy()[0])\n",
    "        if verbose:\n",
    "            env.render()\n",
    "    return np.array(rewards)"
   ]
  },
  {
   "cell_type": "code",
   "execution_count": 5,
   "id": "666b1f39-8192-4365-96f4-7cda88af9721",
   "metadata": {
    "execution": {
     "iopub.execute_input": "2021-09-24T22:02:31.363929Z",
     "iopub.status.busy": "2021-09-24T22:02:31.363624Z",
     "iopub.status.idle": "2021-09-24T22:02:31.370447Z",
     "shell.execute_reply": "2021-09-24T22:02:31.369772Z",
     "shell.execute_reply.started": "2021-09-24T22:02:31.363899Z"
    },
    "tags": []
   },
   "outputs": [],
   "source": [
    "def xp_test(agent_path, verb=False):\n",
    "    agent1s = []\n",
    "    agent2s = []\n",
    "    for filename in glob.glob(os.path.join(agent_path, \"*.pkl\")):\n",
    "        with open(filename, \"rb\") as f:\n",
    "            res = pickle.load(f)\n",
    "            agent1s += [res['p1']]\n",
    "            agent2s += [res['p2']]\n",
    "    score_dict = {}\n",
    "    for idx1, p1 in enumerate(agent1s):\n",
    "        score_dict[idx1] = {}\n",
    "        for idx2, p2 in enumerate(agent2s):\n",
    "            score_dict[idx1][idx2] = sample_games(p1, p2, episodes=1000, verbose=verb).mean()\n",
    "            print(idx1, idx2, score_dict[idx1][idx2])\n",
    "    return DataFrame(score_dict)"
   ]
  },
  {
   "cell_type": "code",
   "execution_count": 11,
   "id": "498fc7b7-ab23-45ae-9006-47909cd400dc",
   "metadata": {
    "execution": {
     "iopub.execute_input": "2021-09-24T22:03:15.374963Z",
     "iopub.status.busy": "2021-09-24T22:03:15.374562Z",
     "iopub.status.idle": "2021-09-24T22:03:15.388835Z",
     "shell.execute_reply": "2021-09-24T22:03:15.387566Z",
     "shell.execute_reply.started": "2021-09-24T22:03:15.374931Z"
    },
    "tags": []
   },
   "outputs": [
    {
     "ename": "ModuleNotFoundError",
     "evalue": "No module named 'agent'",
     "output_type": "error",
     "traceback": [
      "\u001b[0;31m---------------------------------------------------------------------------\u001b[0m",
      "\u001b[0;31mModuleNotFoundError\u001b[0m                       Traceback (most recent call last)",
      "\u001b[0;32m/var/folders/7d/d2gm2vw12clccd1zkl_d37f00000gn/T/ipykernel_34440/3824909947.py\u001b[0m in \u001b[0;36m<module>\u001b[0;34m\u001b[0m\n\u001b[0;32m----> 1\u001b[0;31m \u001b[0mxp_test\u001b[0m\u001b[0;34m(\u001b[0m\u001b[0;34m'../res/FF_hand_5_l1_3_l2_3'\u001b[0m\u001b[0;34m)\u001b[0m\u001b[0;34m\u001b[0m\u001b[0;34m\u001b[0m\u001b[0m\n\u001b[0m",
      "\u001b[0;32m/var/folders/7d/d2gm2vw12clccd1zkl_d37f00000gn/T/ipykernel_34440/582200885.py\u001b[0m in \u001b[0;36mxp_test\u001b[0;34m(agent_path, verb)\u001b[0m\n\u001b[1;32m      4\u001b[0m     \u001b[0;32mfor\u001b[0m \u001b[0mfilename\u001b[0m \u001b[0;32min\u001b[0m \u001b[0mglob\u001b[0m\u001b[0;34m.\u001b[0m\u001b[0mglob\u001b[0m\u001b[0;34m(\u001b[0m\u001b[0mos\u001b[0m\u001b[0;34m.\u001b[0m\u001b[0mpath\u001b[0m\u001b[0;34m.\u001b[0m\u001b[0mjoin\u001b[0m\u001b[0;34m(\u001b[0m\u001b[0magent_path\u001b[0m\u001b[0;34m,\u001b[0m \u001b[0;34m\"*.pkl\"\u001b[0m\u001b[0;34m)\u001b[0m\u001b[0;34m)\u001b[0m\u001b[0;34m:\u001b[0m\u001b[0;34m\u001b[0m\u001b[0;34m\u001b[0m\u001b[0m\n\u001b[1;32m      5\u001b[0m         \u001b[0;32mwith\u001b[0m \u001b[0mopen\u001b[0m\u001b[0;34m(\u001b[0m\u001b[0mfilename\u001b[0m\u001b[0;34m,\u001b[0m \u001b[0;34m\"rb\"\u001b[0m\u001b[0;34m)\u001b[0m \u001b[0;32mas\u001b[0m \u001b[0mf\u001b[0m\u001b[0;34m:\u001b[0m\u001b[0;34m\u001b[0m\u001b[0;34m\u001b[0m\u001b[0m\n\u001b[0;32m----> 6\u001b[0;31m             \u001b[0mres\u001b[0m \u001b[0;34m=\u001b[0m \u001b[0mpickle\u001b[0m\u001b[0;34m.\u001b[0m\u001b[0mload\u001b[0m\u001b[0;34m(\u001b[0m\u001b[0mf\u001b[0m\u001b[0;34m)\u001b[0m\u001b[0;34m\u001b[0m\u001b[0;34m\u001b[0m\u001b[0m\n\u001b[0m\u001b[1;32m      7\u001b[0m             \u001b[0magent1s\u001b[0m \u001b[0;34m+=\u001b[0m \u001b[0;34m[\u001b[0m\u001b[0mres\u001b[0m\u001b[0;34m[\u001b[0m\u001b[0;34m'p1'\u001b[0m\u001b[0;34m]\u001b[0m\u001b[0;34m]\u001b[0m\u001b[0;34m\u001b[0m\u001b[0;34m\u001b[0m\u001b[0m\n\u001b[1;32m      8\u001b[0m             \u001b[0magent2s\u001b[0m \u001b[0;34m+=\u001b[0m \u001b[0;34m[\u001b[0m\u001b[0mres\u001b[0m\u001b[0;34m[\u001b[0m\u001b[0;34m'p2'\u001b[0m\u001b[0;34m]\u001b[0m\u001b[0;34m]\u001b[0m\u001b[0;34m\u001b[0m\u001b[0;34m\u001b[0m\u001b[0m\n",
      "\u001b[0;31mModuleNotFoundError\u001b[0m: No module named 'agent'"
     ]
    }
   ],
   "source": [
    "xp_test('../res/FF_hand_5_l1_3_l2_3')"
   ]
  },
  {
   "cell_type": "code",
   "execution_count": null,
   "id": "d98bd5cf-9258-4f62-b1e1-1d47246cb9fd",
   "metadata": {},
   "outputs": [],
   "source": []
  }
 ],
 "metadata": {
  "kernelspec": {
   "display_name": "Python 3 (ipykernel)",
   "language": "python",
   "name": "python3"
  },
  "language_info": {
   "codemirror_mode": {
    "name": "ipython",
    "version": 3
   },
   "file_extension": ".py",
   "mimetype": "text/x-python",
   "name": "python",
   "nbconvert_exporter": "python",
   "pygments_lexer": "ipython3",
   "version": "3.7.10"
  }
 },
 "nbformat": 4,
 "nbformat_minor": 5
}
