{
 "cells": [
  {
   "cell_type": "code",
   "execution_count": 1,
   "id": "8adc210b-09bc-4a54-a4c6-1f5efe967772",
   "metadata": {
    "execution": {
     "iopub.execute_input": "2021-10-03T20:59:46.421079Z",
     "iopub.status.busy": "2021-10-03T20:59:46.420800Z",
     "iopub.status.idle": "2021-10-03T21:00:02.427124Z",
     "shell.execute_reply": "2021-10-03T21:00:02.426075Z",
     "shell.execute_reply.started": "2021-10-03T20:59:46.421000Z"
    },
    "tags": []
   },
   "outputs": [
    {
     "name": "stdout",
     "output_type": "stream",
     "text": [
      "GPU not available, CPU used\n"
     ]
    }
   ],
   "source": [
    "import numpy as np\n",
    "import pandas as pd\n",
    "import matplotlib.pyplot as plt\n",
    "import seaborn as sns\n",
    "import random\n",
    "from game.hyperparams import Hp\n",
    "\n",
    "import pickle\n",
    "import glob\n",
    "import os\n",
    "\n",
    "\n",
    "import glob\n",
    "import os\n",
    "import pickle\n",
    "import sys\n",
    "import inspect\n",
    "\n",
    "sys.path.append(os.getcwd())\n",
    "sys.path.append(\"\")\n",
    "currentdir = os.path.dirname(os.path.abspath(inspect.getfile(inspect.currentframe())))\n",
    "parentdir = os.path.dirname(currentdir)\n",
    "sys.path.insert(0, parentdir) \n",
    "\n",
    "import torch\n",
    "\n",
    "# if gpu is to be used\n",
    "device = torch.device(\"cuda\" if torch.cuda.is_available() else \"cpu\")\n",
    "\n",
    "import numpy as np\n",
    "from pandas import DataFrame\n",
    "\n",
    "\n",
    "from game.hint_play_game import TwoRoundHintGame\n",
    "from train_qlearner import obs_to_agent\n",
    "\n",
    "from game.hyperparams import Hp\n",
    "from agent.qlearner import QLearner"
   ]
  },
  {
   "cell_type": "code",
   "execution_count": 2,
   "id": "ab8e3951-34d9-4330-883b-7c84feb0f82f",
   "metadata": {
    "execution": {
     "iopub.execute_input": "2021-10-03T21:00:02.431331Z",
     "iopub.status.busy": "2021-10-03T21:00:02.431050Z",
     "iopub.status.idle": "2021-10-03T21:00:02.436324Z",
     "shell.execute_reply": "2021-10-03T21:00:02.435029Z",
     "shell.execute_reply.started": "2021-10-03T21:00:02.431291Z"
    },
    "tags": []
   },
   "outputs": [],
   "source": [
    "hp_default = Hp(hand_size=5,\n",
    "                          nlab1=3,\n",
    "                          nlab2=3,\n",
    "                          )"
   ]
  },
  {
   "cell_type": "code",
   "execution_count": 5,
   "id": "6ff266c6-b252-4049-ac28-b9c80b013bfd",
   "metadata": {
    "execution": {
     "iopub.execute_input": "2021-10-03T21:00:02.466746Z",
     "iopub.status.busy": "2021-10-03T21:00:02.466506Z",
     "iopub.status.idle": "2021-10-03T21:00:11.711604Z",
     "shell.execute_reply": "2021-10-03T21:00:11.710424Z",
     "shell.execute_reply.started": "2021-10-03T21:00:02.466716Z"
    },
    "tags": []
   },
   "outputs": [],
   "source": [
    "agent1s = []\n",
    "agent2s = []\n",
    "agent_paths = sorted(glob.glob(os.path.join(\"res/Att3_hs_5_l1_3_l2_3_FalseFalse4000000\", \"*.pkl\")))\n",
    "cluster1 = [agent_paths[i] for i in [4,6,10,12,13,17]]\n",
    "cluster2 = [agent_paths[i] for i in  [1,2,3,5,7,8,9,11,14,15,16,]]\n",
    "\n",
    "for filename in cluster1:\n",
    "       with open(filename, \"rb\") as f:\n",
    "               res = pickle.load(f)\n",
    "               agent1s += [res['p1']]\n",
    "               agent2s += [res['p2']]"
   ]
  },
  {
   "cell_type": "code",
   "execution_count": 44,
   "id": "7d4c992c-c062-4751-974b-96baf1025f5b",
   "metadata": {
    "execution": {
     "iopub.execute_input": "2021-10-03T21:12:27.944419Z",
     "iopub.status.busy": "2021-10-03T21:12:27.943971Z",
     "iopub.status.idle": "2021-10-03T21:12:27.958306Z",
     "shell.execute_reply": "2021-10-03T21:12:27.957373Z",
     "shell.execute_reply.started": "2021-10-03T21:12:27.944367Z"
    },
    "tags": []
   },
   "outputs": [],
   "source": [
    "# hand1 = [np.array([0., 1., 0., 1., 0., 0.]),\n",
    "#          np.array([0., 1., 0., 0., 1., 0.]),\n",
    "#          np.array([1., 0., 0., 0., 0., 1.]),\n",
    "#          np.array([1., 0., 0., 0., 0., 1.]),\n",
    "#          np.array([1., 0., 0., 0., 0., 1.]),]\n",
    "\n",
    "playable_card_num=4\n",
    "\n",
    "hand1 = [np.array([0., 1., 0., 1., 0., 0.]),\n",
    "         np.array([0., 1., 0., 0., 1., 0.]),\n",
    "         np.array([0., 1., 0., 0., 1., 0.]),\n",
    "         np.array([0., 1., 0., 0., 1., 0.]),\n",
    "         np.array([0., 1., 0., 0., 1., 0.]),]\n",
    "         \n",
    "hand2 = [np.array([0., 1., 0., 0., 1., 0.]),\n",
    "         np.array([0., 0., 1., 1., 0., 0.]),\n",
    "         np.array([0., 0., 1., 1., 0., 0.]),\n",
    "         np.array([0., 0., 1., 1., 0., 0.]),\n",
    "         np.array([0., 0., 1., 1., 0., 0.]),]\n",
    "\n",
    "\n",
    "def get_given_initial_state(hp=hp_default, hand1=hand1, hand2=hand2, playable_card_num=4):\n",
    "    \"\"\"\n",
    "    Generate initial obs assignment\n",
    "    P1 gets all hands as well as the playable card for P2\n",
    "    P2 gets all hands as well as an empty card\n",
    "    \"\"\"\n",
    "    info = {}\n",
    "    o1=hand1 \n",
    "    o2=hand2\n",
    "    o1.append(o2[playable_card_num])\n",
    "    o2.append(np.zeros((hp.nlab1 + hp.nlab2)))\n",
    "    o1 = np.array(o1).flatten()\n",
    "    o2 = np.array(o2).flatten()\n",
    "    info['playbale_card_num'] = playable_card_num\n",
    "    return (o1, o2), info"
   ]
  },
  {
   "cell_type": "code",
   "execution_count": 45,
   "id": "2f626e21-7caf-4005-a738-22c23bda8050",
   "metadata": {
    "execution": {
     "iopub.execute_input": "2021-10-03T21:12:29.122211Z",
     "iopub.status.busy": "2021-10-03T21:12:29.121768Z",
     "iopub.status.idle": "2021-10-03T21:12:29.127391Z",
     "shell.execute_reply": "2021-10-03T21:12:29.126373Z",
     "shell.execute_reply.started": "2021-10-03T21:12:29.122158Z"
    },
    "tags": []
   },
   "outputs": [],
   "source": [
    "obs, info = get_given_initial_state()\n",
    "initial_config = {'obs': obs, 'info':info}"
   ]
  },
  {
   "cell_type": "code",
   "execution_count": 46,
   "id": "163966ca-7108-4461-a9fc-084137727d21",
   "metadata": {
    "execution": {
     "iopub.execute_input": "2021-10-03T21:12:29.292281Z",
     "iopub.status.busy": "2021-10-03T21:12:29.291908Z",
     "iopub.status.idle": "2021-10-03T21:12:29.304430Z",
     "shell.execute_reply": "2021-10-03T21:12:29.303659Z",
     "shell.execute_reply.started": "2021-10-03T21:12:29.292231Z"
    },
    "tags": []
   },
   "outputs": [],
   "source": [
    "def sample_games(p1, p2, episodes=10, verbose=False, initial_config=initial_config):\n",
    "    hp1 = p1.hp\n",
    "    hp2 = p2.hp\n",
    "    env = TwoRoundHintGame(hp=hp1, initial_config=initial_config)\n",
    "\n",
    "    hints = []\n",
    "    plays = []\n",
    "\n",
    "    print(f'agents are {hp1.agent_type} and {hp2.agent_type}')\n",
    "\n",
    "    for i_episode in range(episodes):\n",
    "        # Initialize the environment and state\n",
    "        obs1, info = env.reset()\n",
    "        if verbose:\n",
    "            env.render()\n",
    "        obs1_a1, obs1_a2 = obs_to_agent(obs1, hp=hp1)\n",
    "        if hp1.agent_type != 'FF':\n",
    "            obs1_a1 = obs1_a1.reshape(-1, hp1.nlab1 + hp1.nlab2).T\n",
    "        # P1 select and perform a hint\n",
    "        # obs1_a1 = torch.tensor(obs1_a1, device=device)\n",
    "        a1 = p1.select_action(torch.tensor([obs1_a1], device=device), evaluate=True)\n",
    "        obs2, _, _, _ = env.step(a1)\n",
    "        hint_card = env.get_card_symbol_in_round()\n",
    "        if verbose:\n",
    "            env.render()\n",
    "        # P2 plays a card\n",
    "        obs2_a1, obs2_a2 = obs_to_agent(obs2, hp=hp2)\n",
    "        if hp2.agent_type != 'FF':\n",
    "            obs2_a2 = obs2_a2.reshape(-1, hp2.nlab1 + hp2.nlab2).T\n",
    "        a2 = p2.select_action(torch.tensor([obs2_a2], device=device), evaluate=True)\n",
    "        _, r, _, _ = env.step(a2)\n",
    "        r = torch.tensor([r[0]], device=device)\n",
    "        play_card = env.get_card_symbol_in_round()\n",
    "        if verbose:\n",
    "            env.render()\n",
    "        hints.append(hint_card)\n",
    "        plays.append(play_card)\n",
    "    return hints, plays"
   ]
  },
  {
   "cell_type": "code",
   "execution_count": 56,
   "id": "42f3c90a-1b85-451f-bb16-0de1ccf0cc28",
   "metadata": {
    "execution": {
     "iopub.execute_input": "2021-10-03T21:22:58.268947Z",
     "iopub.status.busy": "2021-10-03T21:22:58.268495Z",
     "iopub.status.idle": "2021-10-03T21:23:03.173152Z",
     "shell.execute_reply": "2021-10-03T21:23:03.172309Z",
     "shell.execute_reply.started": "2021-10-03T21:22:58.268894Z"
    },
    "tags": []
   },
   "outputs": [
    {
     "name": "stdout",
     "output_type": "stream",
     "text": [
      "agents are Att3 and Att3\n",
      "Counter({'2A': 84, '2B': 16})\n",
      "agents are Att3 and Att3\n",
      "Counter({'2B': 100})\n",
      "agents are Att3 and Att3\n",
      "Counter({'2A': 94, '2B': 6})\n",
      "agents are Att3 and Att3\n",
      "Counter({'2A': 100})\n",
      "agents are Att3 and Att3\n",
      "Counter({'2B': 100})\n",
      "agents are Att3 and Att3\n",
      "Counter({'2A': 100})\n"
     ]
    }
   ],
   "source": [
    "hint_sym = []\n",
    "play_sym = []\n",
    "\n",
    "for i in range(len(agent1s)):\n",
    "    p1 = agent1s[i]\n",
    "    p2 = agent2s[i]\n",
    "    hints, plays = sample_games(p1, p2, verbose=False, episodes=100)\n",
    "    hint_sym += hints\n",
    "    play_sym += plays\n",
    "    print(Counter(hints))\n"
   ]
  },
  {
   "cell_type": "code",
   "execution_count": 57,
   "id": "a2a841ba-c6c4-4ca7-b42b-d4ac1f03f712",
   "metadata": {
    "execution": {
     "iopub.execute_input": "2021-10-03T21:23:05.611955Z",
     "iopub.status.busy": "2021-10-03T21:23:05.611498Z",
     "iopub.status.idle": "2021-10-03T21:23:05.617014Z",
     "shell.execute_reply": "2021-10-03T21:23:05.615815Z",
     "shell.execute_reply.started": "2021-10-03T21:23:05.611902Z"
    },
    "tags": []
   },
   "outputs": [],
   "source": [
    "from collections import Counter"
   ]
  },
  {
   "cell_type": "code",
   "execution_count": 58,
   "id": "4bc418f2-6c1f-4a1c-8d99-c8be64750463",
   "metadata": {
    "execution": {
     "iopub.execute_input": "2021-10-03T21:23:05.777344Z",
     "iopub.status.busy": "2021-10-03T21:23:05.776932Z",
     "iopub.status.idle": "2021-10-03T21:23:05.783878Z",
     "shell.execute_reply": "2021-10-03T21:23:05.782855Z",
     "shell.execute_reply.started": "2021-10-03T21:23:05.777296Z"
    },
    "tags": []
   },
   "outputs": [
    {
     "data": {
      "text/plain": [
       "Counter({'2B': 222, '2A': 378})"
      ]
     },
     "execution_count": 58,
     "metadata": {},
     "output_type": "execute_result"
    }
   ],
   "source": [
    "Counter(hint_sym)"
   ]
  },
  {
   "cell_type": "code",
   "execution_count": 59,
   "id": "157ae5ec-9a11-4486-b415-511633ab8857",
   "metadata": {
    "execution": {
     "iopub.execute_input": "2021-10-03T21:23:06.979082Z",
     "iopub.status.busy": "2021-10-03T21:23:06.978619Z",
     "iopub.status.idle": "2021-10-03T21:23:06.986042Z",
     "shell.execute_reply": "2021-10-03T21:23:06.985096Z",
     "shell.execute_reply.started": "2021-10-03T21:23:06.979029Z"
    },
    "tags": []
   },
   "outputs": [
    {
     "data": {
      "text/plain": [
       "Counter({'3A': 598, '2B': 2})"
      ]
     },
     "execution_count": 59,
     "metadata": {},
     "output_type": "execute_result"
    }
   ],
   "source": [
    "Counter(play_sym)"
   ]
  },
  {
   "cell_type": "code",
   "execution_count": 53,
   "id": "22a2983b-eb61-488d-9d35-c74dc46a0614",
   "metadata": {
    "execution": {
     "iopub.execute_input": "2021-10-03T21:21:06.484814Z",
     "iopub.status.busy": "2021-10-03T21:21:06.484366Z",
     "iopub.status.idle": "2021-10-03T21:21:31.164642Z",
     "shell.execute_reply": "2021-10-03T21:21:31.163751Z",
     "shell.execute_reply.started": "2021-10-03T21:21:06.484761Z"
    },
    "tags": []
   },
   "outputs": [
    {
     "name": "stdout",
     "output_type": "stream",
     "text": [
      "agents are Att3 and Att3\n",
      "0 1 Counter({'2A': 95, '2B': 5}) Counter({'3A': 99, '2B': 1})\n",
      "agents are Att3 and Att3\n",
      "0 2 Counter({'2A': 96, '2B': 4}) Counter({'3A': 100})\n",
      "agents are Att3 and Att3\n",
      "0 3 Counter({'2A': 90, '2B': 10}) Counter({'3A': 100})\n",
      "agents are Att3 and Att3\n",
      "0 4 Counter({'2A': 85, '2B': 15}) Counter({'3A': 100})\n",
      "agents are Att3 and Att3\n",
      "0 5 Counter({'2A': 88, '2B': 12}) Counter({'3A': 88, '2B': 12})\n",
      "agents are Att3 and Att3\n",
      "1 0 Counter({'2B': 99, '2A': 1}) Counter({'3A': 90, '2B': 10})\n",
      "agents are Att3 and Att3\n",
      "1 2 Counter({'2B': 100}) Counter({'3A': 100})\n",
      "agents are Att3 and Att3\n",
      "1 3 Counter({'2B': 100}) Counter({'3A': 100})\n",
      "agents are Att3 and Att3\n",
      "1 4 Counter({'2B': 100}) Counter({'3A': 100})\n",
      "agents are Att3 and Att3\n",
      "1 5 Counter({'2B': 99, '2A': 1}) Counter({'2B': 99, '3A': 1})\n",
      "agents are Att3 and Att3\n",
      "2 0 Counter({'2A': 84, '2B': 16}) Counter({'3A': 100})\n",
      "agents are Att3 and Att3\n",
      "2 1 Counter({'2A': 82, '2B': 18}) Counter({'3A': 100})\n",
      "agents are Att3 and Att3\n",
      "2 3 Counter({'2A': 81, '2B': 19}) Counter({'3A': 100})\n",
      "agents are Att3 and Att3\n",
      "2 4 Counter({'2A': 82, '2B': 18}) Counter({'3A': 100})\n",
      "agents are Att3 and Att3\n",
      "2 5 Counter({'2A': 84, '2B': 16}) Counter({'3A': 84, '2B': 16})\n",
      "agents are Att3 and Att3\n",
      "3 0 Counter({'2A': 100}) Counter({'3A': 100})\n",
      "agents are Att3 and Att3\n",
      "3 1 Counter({'2A': 100}) Counter({'3A': 100})\n",
      "agents are Att3 and Att3\n",
      "3 2 Counter({'2A': 100}) Counter({'3A': 100})\n",
      "agents are Att3 and Att3\n",
      "3 4 Counter({'2A': 100}) Counter({'3A': 100})\n",
      "agents are Att3 and Att3\n",
      "3 5 Counter({'2A': 100}) Counter({'3A': 100})\n",
      "agents are Att3 and Att3\n",
      "4 0 Counter({'2B': 100}) Counter({'3A': 84, '2B': 16})\n",
      "agents are Att3 and Att3\n",
      "4 1 Counter({'2B': 100}) Counter({'3A': 100})\n",
      "agents are Att3 and Att3\n",
      "4 2 Counter({'2B': 100}) Counter({'3A': 100})\n",
      "agents are Att3 and Att3\n",
      "4 3 Counter({'2B': 100}) Counter({'3A': 100})\n",
      "agents are Att3 and Att3\n",
      "4 5 Counter({'2B': 100}) Counter({'2B': 100})\n",
      "agents are Att3 and Att3\n",
      "5 0 Counter({'2A': 100}) Counter({'3A': 100})\n",
      "agents are Att3 and Att3\n",
      "5 1 Counter({'2A': 100}) Counter({'3A': 100})\n",
      "agents are Att3 and Att3\n",
      "5 2 Counter({'2A': 100}) Counter({'3A': 100})\n",
      "agents are Att3 and Att3\n",
      "5 3 Counter({'2A': 100}) Counter({'3A': 100})\n",
      "agents are Att3 and Att3\n",
      "5 4 Counter({'2A': 100}) Counter({'3A': 100})\n"
     ]
    }
   ],
   "source": [
    "hint_sym = []\n",
    "play_sym = []\n",
    "\n",
    "for i in range(len(agent1s)):\n",
    "    for j in range(len(agent1s)):\n",
    "        if i != j:\n",
    "            p1 = agent1s[i]\n",
    "            p2 = agent2s[j]\n",
    "            hints, plays = sample_games(p1, p2, verbose=False, episodes=100)\n",
    "            hint_sym += hints\n",
    "            play_sym += plays\n",
    "            print(i,j,Counter(hints), Counter(plays))"
   ]
  },
  {
   "cell_type": "code",
   "execution_count": 54,
   "id": "44f42820-7a29-4584-8869-b8a56a5f0bdb",
   "metadata": {
    "execution": {
     "iopub.execute_input": "2021-10-03T21:21:42.638443Z",
     "iopub.status.busy": "2021-10-03T21:21:42.638050Z",
     "iopub.status.idle": "2021-10-03T21:21:42.645305Z",
     "shell.execute_reply": "2021-10-03T21:21:42.644469Z",
     "shell.execute_reply.started": "2021-10-03T21:21:42.638390Z"
    },
    "tags": []
   },
   "outputs": [
    {
     "data": {
      "text/plain": [
       "Counter({'2A': 1869, '2B': 1131})"
      ]
     },
     "execution_count": 54,
     "metadata": {},
     "output_type": "execute_result"
    }
   ],
   "source": [
    "Counter(hint_sym)"
   ]
  },
  {
   "cell_type": "code",
   "execution_count": 55,
   "id": "53c8edf0-6190-41bf-b037-171659d564a1",
   "metadata": {
    "execution": {
     "iopub.execute_input": "2021-10-03T21:21:43.395041Z",
     "iopub.status.busy": "2021-10-03T21:21:43.394577Z",
     "iopub.status.idle": "2021-10-03T21:21:43.402892Z",
     "shell.execute_reply": "2021-10-03T21:21:43.401799Z",
     "shell.execute_reply.started": "2021-10-03T21:21:43.394988Z"
    }
   },
   "outputs": [
    {
     "data": {
      "text/plain": [
       "Counter({'3A': 2746, '2B': 254})"
      ]
     },
     "execution_count": 55,
     "metadata": {},
     "output_type": "execute_result"
    }
   ],
   "source": [
    "Counter(play_sym)"
   ]
  },
  {
   "cell_type": "code",
   "execution_count": 28,
   "id": "16ad31ba-9cc9-4bdb-8010-a75261704211",
   "metadata": {
    "execution": {
     "iopub.execute_input": "2021-10-03T21:08:25.783000Z",
     "iopub.status.busy": "2021-10-03T21:08:25.782529Z",
     "iopub.status.idle": "2021-10-03T21:08:25.812491Z",
     "shell.execute_reply": "2021-10-03T21:08:25.811580Z",
     "shell.execute_reply.started": "2021-10-03T21:08:25.782944Z"
    }
   },
   "outputs": [],
   "source": [
    "from sample.sample import sample_games\n",
    "\n",
    "game_num = 2"
   ]
  },
  {
   "cell_type": "code",
   "execution_count": 37,
   "id": "7a163cdf-1f14-45cd-9abc-0517325d5e70",
   "metadata": {
    "execution": {
     "iopub.execute_input": "2021-10-03T21:09:27.562647Z",
     "iopub.status.busy": "2021-10-03T21:09:27.562208Z",
     "iopub.status.idle": "2021-10-03T21:09:27.602289Z",
     "shell.execute_reply": "2021-10-03T21:09:27.601607Z",
     "shell.execute_reply.started": "2021-10-03T21:09:27.562595Z"
    },
    "tags": []
   },
   "outputs": [
    {
     "name": "stdout",
     "output_type": "stream",
     "text": [
      "===== Game starts with handsize: 5, nlabl: 3, nlab2: 3 =====\n",
      "Playable hand is: 1C\n",
      "Agent 1 hand is: ['3B', '3A', '1̲C', '1̲C', '2B']\n",
      "Agent 2 hand is: ['2B', '3C', '2B', '1̲C', '1A']\n",
      "Agent 1 hints 1C @  3\n",
      "Agent 2 plays 1C @  3\n",
      "Final reward of game: 1.0\n",
      "\n",
      "\n",
      "===== Game starts with handsize: 5, nlabl: 3, nlab2: 3 =====\n",
      "Playable hand is: 3C\n",
      "Agent 1 hand is: ['1B', '1A', '3B', '2B', '1C']\n",
      "Agent 2 hand is: ['3B', '2B', '3̲C', '3B', '2B']\n",
      "Agent 1 hints 1C @  4\n",
      "Agent 2 plays 3C @  2\n",
      "Final reward of game: 1.0\n",
      "\n",
      "\n"
     ]
    },
    {
     "data": {
      "text/plain": [
       "array([1., 1.], dtype=float32)"
      ]
     },
     "execution_count": 37,
     "metadata": {},
     "output_type": "execute_result"
    }
   ],
   "source": [
    "i=5\n",
    "p1 = agent1s[i]\n",
    "p2 = agent2s[i]\n",
    "sample_games(p1, p2, episodes=game_num, verbose=True)"
   ]
  },
  {
   "cell_type": "code",
   "execution_count": null,
   "id": "bd65b142-0628-4a48-b26c-830fa99554ec",
   "metadata": {},
   "outputs": [],
   "source": []
  },
  {
   "cell_type": "code",
   "execution_count": null,
   "id": "3334af2f-d139-4600-910b-8ca50667f4ec",
   "metadata": {},
   "outputs": [],
   "source": []
  }
 ],
 "metadata": {
  "kernelspec": {
   "display_name": "Python 3",
   "language": "python",
   "name": "python3"
  },
  "language_info": {
   "codemirror_mode": {
    "name": "ipython",
    "version": 3
   },
   "file_extension": ".py",
   "mimetype": "text/x-python",
   "name": "python",
   "nbconvert_exporter": "python",
   "pygments_lexer": "ipython3",
   "version": "3.7.7"
  }
 },
 "nbformat": 4,
 "nbformat_minor": 5
}
