{
 "cells": [
  {
   "cell_type": "code",
   "execution_count": 1,
   "id": "8adc210b-09bc-4a54-a4c6-1f5efe967772",
   "metadata": {
    "execution": {
     "iopub.execute_input": "2021-10-04T21:36:05.449675Z",
     "iopub.status.busy": "2021-10-04T21:36:05.449304Z",
     "iopub.status.idle": "2021-10-04T21:36:31.010383Z",
     "shell.execute_reply": "2021-10-04T21:36:31.009515Z",
     "shell.execute_reply.started": "2021-10-04T21:36:05.449570Z"
    },
    "tags": []
   },
   "outputs": [
    {
     "name": "stdout",
     "output_type": "stream",
     "text": [
      "GPU not available, CPU used\n"
     ]
    }
   ],
   "source": [
    "import numpy as np\n",
    "import pandas as pd\n",
    "import matplotlib.pyplot as plt\n",
    "import seaborn as sns\n",
    "import random\n",
    "from game.hyperparams import Hp\n",
    "\n",
    "import pickle\n",
    "import glob\n",
    "import os\n",
    "\n",
    "\n",
    "import glob\n",
    "import os\n",
    "import pickle\n",
    "import sys\n",
    "import inspect\n",
    "\n",
    "sys.path.append(os.getcwd())\n",
    "sys.path.append(\"\")\n",
    "currentdir = os.path.dirname(os.path.abspath(inspect.getfile(inspect.currentframe())))\n",
    "parentdir = os.path.dirname(currentdir)\n",
    "sys.path.insert(0, parentdir) \n",
    "\n",
    "import torch\n",
    "\n",
    "# if gpu is to be used\n",
    "device = torch.device(\"cuda\" if torch.cuda.is_available() else \"cpu\")\n",
    "\n",
    "import numpy as np\n",
    "from pandas import DataFrame\n",
    "\n",
    "\n",
    "from game.hint_play_game import TwoRoundHintGame\n",
    "from train_qlearner import obs_to_agent\n",
    "\n",
    "from game.hyperparams import Hp\n",
    "from agent.qlearner import QLearner"
   ]
  },
  {
   "cell_type": "code",
   "execution_count": 2,
   "id": "ab8e3951-34d9-4330-883b-7c84feb0f82f",
   "metadata": {
    "execution": {
     "iopub.execute_input": "2021-10-04T21:36:31.011933Z",
     "iopub.status.busy": "2021-10-04T21:36:31.011690Z",
     "iopub.status.idle": "2021-10-04T21:36:31.016047Z",
     "shell.execute_reply": "2021-10-04T21:36:31.015012Z",
     "shell.execute_reply.started": "2021-10-04T21:36:31.011900Z"
    },
    "tags": []
   },
   "outputs": [],
   "source": [
    "hp_default = Hp(hand_size=5,\n",
    "                          nlab1=3,\n",
    "                          nlab2=3,\n",
    "                          )"
   ]
  },
  {
   "cell_type": "code",
   "execution_count": 3,
   "id": "6ff266c6-b252-4049-ac28-b9c80b013bfd",
   "metadata": {
    "execution": {
     "iopub.execute_input": "2021-10-04T21:36:31.018092Z",
     "iopub.status.busy": "2021-10-04T21:36:31.017728Z",
     "iopub.status.idle": "2021-10-04T21:36:39.933871Z",
     "shell.execute_reply": "2021-10-04T21:36:39.932785Z",
     "shell.execute_reply.started": "2021-10-04T21:36:31.018033Z"
    },
    "tags": []
   },
   "outputs": [],
   "source": [
    "agent1s = []\n",
    "agent2s = []\n",
    "agent_paths = sorted(glob.glob(os.path.join(\"res/Att3_hs_5_l1_3_l2_3_FalseFalse4000000\", \"*.pkl\")))\n",
    "cluster1 = [agent_paths[i] for i in [4,6,10,12,13,17]]\n",
    "cluster2 = [agent_paths[i] for i in  [1,2,3,5,7,8,9,11,14,15,16,]]\n",
    "\n",
    "for filename in cluster1:\n",
    "       with open(filename, \"rb\") as f:\n",
    "               res = pickle.load(f)\n",
    "               agent1s += [res['p1']]\n",
    "               agent2s += [res['p2']]"
   ]
  },
  {
   "cell_type": "code",
   "execution_count": 8,
   "id": "7d4c992c-c062-4751-974b-96baf1025f5b",
   "metadata": {
    "execution": {
     "iopub.execute_input": "2021-10-04T21:37:41.720323Z",
     "iopub.status.busy": "2021-10-04T21:37:41.719895Z",
     "iopub.status.idle": "2021-10-04T21:37:41.736994Z",
     "shell.execute_reply": "2021-10-04T21:37:41.736005Z",
     "shell.execute_reply.started": "2021-10-04T21:37:41.720272Z"
    },
    "tags": []
   },
   "outputs": [],
   "source": [
    "playable_card_num=4\n",
    "\n",
    "# EM\n",
    "# hand1 = [np.array([1., 0., 0., 1., 0., 0.]),\n",
    "#          np.array([1., 0., 0., 1., 0., 0.]),\n",
    "#          np.array([0., 1., 0., 0., 1., 0.]),\n",
    "#          np.array([0., 1., 0., 0., 1., 0.]),\n",
    "#          np.array([0., 1., 0., 0., 1., 0.]),]\n",
    "\n",
    "# hand2 = [np.array([1., 0., 0., 1., 0., 0.]),\n",
    "#          np.array([1., 0., 0., 1., 0., 0.]),\n",
    "#          np.array([0., 1., 0., 0., 1., 0.]),\n",
    "#          np.array([0., 1., 0., 0., 1., 0.]),\n",
    "#          np.array([0., 1., 0., 0., 1., 0.]),]\n",
    "\n",
    "# ME\n",
    "# hand1 = [np.array([1., 0., 0., 0., 1., 0.]),\n",
    "#          np.array([1., 0., 0., 0., 1., 0.]),\n",
    "#          np.array([0., 0., 1., 0., 0., 1.]),\n",
    "#          np.array([0., 0., 1., 0., 0., 1.]),\n",
    "#          np.array([0., 0., 1., 0., 0., 1.]),]\n",
    "         \n",
    "# hand2 = [np.array([1., 0., 0., 0., 1., 0.]),\n",
    "#          np.array([1., 0., 0., 0., 1., 0.]),\n",
    "#          np.array([0., 1., 0., 1., 0., 0.]),\n",
    "#          np.array([0., 1., 0., 1., 0., 0.]),\n",
    "#          np.array([0., 1., 0., 1., 0., 0.]),]\n",
    "\n",
    "\n",
    "# MO\n",
    "# hand1 = [np.array([1., 0., 0., 0., 1., 0.]),\n",
    "#          np.array([1., 0., 0., 0., 1., 0.]),\n",
    "#          np.array([0., 0., 1., 0., 0., 1.]),\n",
    "#          np.array([0., 0., 1., 0., 0., 1.]),\n",
    "#          np.array([0., 0., 1., 0., 0., 1.]),]\n",
    "         \n",
    "# hand2 = [np.array([0., 1., 0., 0., 1., 0.]),\n",
    "#          np.array([0., 1., 0., 0., 1., 0.]),\n",
    "#          np.array([0., 0., 1., 1., 0., 0.]),\n",
    "#          np.array([0., 0., 1., 1., 0., 0.]),\n",
    "#          np.array([0., 0., 1., 1., 0., 0.]),]\n",
    "\n",
    "\n",
    "# Implicture\n",
    "\n",
    "hand1 = [np.array([0., 1., 0., 1., 0., 0.]),\n",
    "         np.array([0., 1., 0., 1., 0., 0.]),\n",
    "         np.array([0., 1., 0., 0., 0., 1.]),\n",
    "         np.array([0., 1., 0., 0., 0., 1.]),\n",
    "         np.array([0., 1., 0., 0., 0., 1.]),]\n",
    "         \n",
    "hand2 = [np.array([1., 0., 0., 0., 0., 1.]),\n",
    "         np.array([1., 0., 0., 0., 0., 1.]),\n",
    "         np.array([0., 0., 1., 0., 1., 0.]),\n",
    "         np.array([0., 0., 1., 0., 1., 0.]),\n",
    "         np.array([0., 0., 1., 0., 1., 0.]),]\n",
    "\n",
    "\n",
    "# Disa\n",
    "\n",
    "# hand1 = [np.array([1., 0., 0., 0., 0., 1.]),\n",
    "#          np.array([0., 1., 0., 1., 0., 0.]),\n",
    "#          np.array([0., 1., 0., 0., 1., 0.]),\n",
    "#          np.array([0., 1., 0., 0., 1., 0.]),\n",
    "#          np.array([0., 1., 0., 0., 1., 0.]),]\n",
    "         \n",
    "# hand2 = [np.array([0., 1., 0., 0., 1., 0.]),\n",
    "#          np.array([0., 1., 0., 0., 1., 0.]),\n",
    "#          np.array([0., 0., 1., 1., 0., 0.]),\n",
    "#          np.array([0., 0., 1., 1., 0., 0.]),\n",
    "#          np.array([0., 0., 1., 1., 0., 0.]),]\n",
    "\n",
    "\n",
    "\n",
    "def get_given_initial_state(hp=hp_default, hand1=hand1, hand2=hand2, playable_card_num=4):\n",
    "    \"\"\"\n",
    "    Generate initial obs assignment\n",
    "    P1 gets all hands as well as the playable card for P2\n",
    "    P2 gets all hands as well as an empty card\n",
    "    \"\"\"\n",
    "    info = {}\n",
    "    o1=hand1 \n",
    "    o2=hand2\n",
    "    o1.append(o2[playable_card_num])\n",
    "    o2.append(np.zeros((hp.nlab1 + hp.nlab2)))\n",
    "    o1 = np.array(o1).flatten()\n",
    "    o2 = np.array(o2).flatten()\n",
    "    info['playbale_card_num'] = playable_card_num\n",
    "    return (o1, o2), info"
   ]
  },
  {
   "cell_type": "code",
   "execution_count": 9,
   "id": "2f626e21-7caf-4005-a738-22c23bda8050",
   "metadata": {
    "execution": {
     "iopub.execute_input": "2021-10-04T21:37:42.988256Z",
     "iopub.status.busy": "2021-10-04T21:37:42.987919Z",
     "iopub.status.idle": "2021-10-04T21:37:42.992299Z",
     "shell.execute_reply": "2021-10-04T21:37:42.991555Z",
     "shell.execute_reply.started": "2021-10-04T21:37:42.988220Z"
    },
    "tags": []
   },
   "outputs": [],
   "source": [
    "obs, info = get_given_initial_state()\n",
    "initial_config = {'obs': obs, 'info':info}"
   ]
  },
  {
   "cell_type": "code",
   "execution_count": 10,
   "id": "163966ca-7108-4461-a9fc-084137727d21",
   "metadata": {
    "execution": {
     "iopub.execute_input": "2021-10-04T21:37:44.832004Z",
     "iopub.status.busy": "2021-10-04T21:37:44.831717Z",
     "iopub.status.idle": "2021-10-04T21:37:44.841705Z",
     "shell.execute_reply": "2021-10-04T21:37:44.840816Z",
     "shell.execute_reply.started": "2021-10-04T21:37:44.831971Z"
    },
    "tags": []
   },
   "outputs": [],
   "source": [
    "def sample_games(p1, p2, episodes=10, verbose=False, initial_config=initial_config):\n",
    "    hp1 = p1.hp\n",
    "    hp2 = p2.hp\n",
    "    env = TwoRoundHintGame(hp=hp1, initial_config=initial_config)\n",
    "\n",
    "    hints = []\n",
    "    plays = []\n",
    "\n",
    "    print(f'agents are {hp1.agent_type} and {hp2.agent_type}')\n",
    "\n",
    "    for i_episode in range(episodes):\n",
    "        # Initialize the environment and state\n",
    "        obs1, info = env.reset()\n",
    "        if verbose:\n",
    "            env.render()\n",
    "        obs1_a1, obs1_a2 = obs_to_agent(obs1, hp=hp1)\n",
    "        if hp1.agent_type != 'FF':\n",
    "            obs1_a1 = obs1_a1.reshape(-1, hp1.nlab1 + hp1.nlab2).T\n",
    "        # P1 select and perform a hint\n",
    "        # obs1_a1 = torch.tensor(obs1_a1, device=device)\n",
    "        a1 = p1.select_action(torch.tensor([obs1_a1], device=device), evaluate=True)\n",
    "        obs2, _, _, _ = env.step(a1)\n",
    "        hint_card = env.get_card_symbol_in_round()\n",
    "        if verbose:\n",
    "            env.render()\n",
    "        # P2 plays a card\n",
    "        obs2_a1, obs2_a2 = obs_to_agent(obs2, hp=hp2)\n",
    "        if hp2.agent_type != 'FF':\n",
    "            obs2_a2 = obs2_a2.reshape(-1, hp2.nlab1 + hp2.nlab2).T\n",
    "        a2 = p2.select_action(torch.tensor([obs2_a2], device=device), evaluate=True)\n",
    "        _, r, _, _ = env.step(a2)\n",
    "        r = torch.tensor([r[0]], device=device)\n",
    "        play_card = env.get_card_symbol_in_round()\n",
    "        if verbose:\n",
    "            env.render()\n",
    "        hints.append(hint_card)\n",
    "        plays.append(play_card)\n",
    "    return hints, plays"
   ]
  },
  {
   "cell_type": "code",
   "execution_count": 11,
   "id": "42f3c90a-1b85-451f-bb16-0de1ccf0cc28",
   "metadata": {
    "execution": {
     "iopub.execute_input": "2021-10-04T21:37:57.095900Z",
     "iopub.status.busy": "2021-10-04T21:37:57.095527Z",
     "iopub.status.idle": "2021-10-04T21:38:02.373490Z",
     "shell.execute_reply": "2021-10-04T21:38:02.372740Z",
     "shell.execute_reply.started": "2021-10-04T21:37:57.095847Z"
    },
    "tags": []
   },
   "outputs": [
    {
     "name": "stdout",
     "output_type": "stream",
     "text": [
      "agents are Att3 and Att3\n",
      "Counter({'2A': 52, '2C': 48})\n",
      "agents are Att3 and Att3\n",
      "Counter({'2A': 100})\n",
      "agents are Att3 and Att3\n",
      "Counter({'2A': 100})\n",
      "agents are Att3 and Att3\n",
      "Counter({'2A': 100})\n",
      "agents are Att3 and Att3\n",
      "Counter({'2A': 100})\n",
      "agents are Att3 and Att3\n",
      "Counter({'2A': 100})\n"
     ]
    }
   ],
   "source": [
    "from collections import Counter\n",
    "\n",
    "hint_sym = []\n",
    "play_sym = []\n",
    "\n",
    "for i in range(len(agent1s)):\n",
    "    p1 = agent1s[i]\n",
    "    p2 = agent2s[i]\n",
    "    hints, plays = sample_games(p1, p2, verbose=False, episodes=100)\n",
    "    hint_sym += hints\n",
    "    play_sym += plays\n",
    "    print(Counter(hints))\n"
   ]
  },
  {
   "cell_type": "code",
   "execution_count": 12,
   "id": "a2a841ba-c6c4-4ca7-b42b-d4ac1f03f712",
   "metadata": {
    "execution": {
     "iopub.execute_input": "2021-10-04T21:38:07.579110Z",
     "iopub.status.busy": "2021-10-04T21:38:07.578702Z",
     "iopub.status.idle": "2021-10-04T21:38:07.584087Z",
     "shell.execute_reply": "2021-10-04T21:38:07.583173Z",
     "shell.execute_reply.started": "2021-10-04T21:38:07.579062Z"
    },
    "tags": []
   },
   "outputs": [],
   "source": [
    "from collections import Counter"
   ]
  },
  {
   "cell_type": "code",
   "execution_count": 13,
   "id": "4bc418f2-6c1f-4a1c-8d99-c8be64750463",
   "metadata": {
    "execution": {
     "iopub.execute_input": "2021-10-04T21:38:08.939993Z",
     "iopub.status.busy": "2021-10-04T21:38:08.939626Z",
     "iopub.status.idle": "2021-10-04T21:38:08.949493Z",
     "shell.execute_reply": "2021-10-04T21:38:08.948559Z",
     "shell.execute_reply.started": "2021-10-04T21:38:08.939952Z"
    },
    "tags": []
   },
   "outputs": [
    {
     "data": {
      "text/plain": [
       "Counter({'2C': 48, '2A': 552})"
      ]
     },
     "execution_count": 13,
     "metadata": {},
     "output_type": "execute_result"
    }
   ],
   "source": [
    "Counter(hint_sym)"
   ]
  },
  {
   "cell_type": "code",
   "execution_count": 184,
   "id": "157ae5ec-9a11-4486-b415-511633ab8857",
   "metadata": {
    "execution": {
     "iopub.execute_input": "2021-10-04T07:31:04.993812Z",
     "iopub.status.busy": "2021-10-04T07:31:04.993572Z",
     "iopub.status.idle": "2021-10-04T07:31:04.999525Z",
     "shell.execute_reply": "2021-10-04T07:31:04.998833Z",
     "shell.execute_reply.started": "2021-10-04T07:31:04.993781Z"
    },
    "tags": []
   },
   "outputs": [
    {
     "data": {
      "text/plain": [
       "Counter({'3A': 1100})"
      ]
     },
     "execution_count": 184,
     "metadata": {},
     "output_type": "execute_result"
    }
   ],
   "source": [
    "Counter(play_sym)"
   ]
  },
  {
   "cell_type": "code",
   "execution_count": 14,
   "id": "22a2983b-eb61-488d-9d35-c74dc46a0614",
   "metadata": {
    "execution": {
     "iopub.execute_input": "2021-10-04T21:38:47.301413Z",
     "iopub.status.busy": "2021-10-04T21:38:47.300969Z",
     "iopub.status.idle": "2021-10-04T21:39:12.595360Z",
     "shell.execute_reply": "2021-10-04T21:39:12.594503Z",
     "shell.execute_reply.started": "2021-10-04T21:38:47.301359Z"
    },
    "scrolled": true,
    "tags": []
   },
   "outputs": [
    {
     "name": "stdout",
     "output_type": "stream",
     "text": [
      "agents are Att3 and Att3\n",
      "0 1 Counter({'2A': 100}) Counter({'3B': 100})\n",
      "agents are Att3 and Att3\n",
      "0 2 Counter({'2A': 100}) Counter({'3B': 100})\n",
      "agents are Att3 and Att3\n",
      "0 3 Counter({'2A': 100}) Counter({'3B': 100})\n",
      "agents are Att3 and Att3\n",
      "0 4 Counter({'2A': 100}) Counter({'3B': 100})\n",
      "agents are Att3 and Att3\n",
      "0 5 Counter({'2A': 100}) Counter({'3B': 100})\n",
      "agents are Att3 and Att3\n",
      "1 0 Counter({'2A': 100}) Counter({'3B': 97, '1C': 3})\n",
      "agents are Att3 and Att3\n",
      "1 2 Counter({'2A': 100}) Counter({'3B': 100})\n",
      "agents are Att3 and Att3\n",
      "1 3 Counter({'2A': 100}) Counter({'3B': 100})\n",
      "agents are Att3 and Att3\n",
      "1 4 Counter({'2A': 100}) Counter({'3B': 100})\n",
      "agents are Att3 and Att3\n",
      "1 5 Counter({'2A': 100}) Counter({'3B': 100})\n",
      "agents are Att3 and Att3\n",
      "2 0 Counter({'2A': 100}) Counter({'3B': 100})\n",
      "agents are Att3 and Att3\n",
      "2 1 Counter({'2A': 100}) Counter({'3B': 100})\n",
      "agents are Att3 and Att3\n",
      "2 3 Counter({'2A': 100}) Counter({'3B': 100})\n",
      "agents are Att3 and Att3\n",
      "2 4 Counter({'2A': 100}) Counter({'3B': 100})\n",
      "agents are Att3 and Att3\n",
      "2 5 Counter({'2A': 100}) Counter({'3B': 100})\n",
      "agents are Att3 and Att3\n",
      "3 0 Counter({'2A': 100}) Counter({'3B': 96, '1C': 4})\n",
      "agents are Att3 and Att3\n",
      "3 1 Counter({'2A': 100}) Counter({'3B': 100})\n",
      "agents are Att3 and Att3\n",
      "3 2 Counter({'2A': 100}) Counter({'3B': 100})\n",
      "agents are Att3 and Att3\n",
      "3 4 Counter({'2A': 100}) Counter({'3B': 100})\n",
      "agents are Att3 and Att3\n",
      "3 5 Counter({'2A': 100}) Counter({'3B': 100})\n",
      "agents are Att3 and Att3\n",
      "4 0 Counter({'2A': 100}) Counter({'3B': 98, '1C': 2})\n",
      "agents are Att3 and Att3\n",
      "4 1 Counter({'2A': 100}) Counter({'3B': 100})\n",
      "agents are Att3 and Att3\n",
      "4 2 Counter({'2A': 100}) Counter({'3B': 100})\n",
      "agents are Att3 and Att3\n",
      "4 3 Counter({'2A': 100}) Counter({'3B': 100})\n",
      "agents are Att3 and Att3\n",
      "4 5 Counter({'2A': 100}) Counter({'3B': 100})\n",
      "agents are Att3 and Att3\n",
      "5 0 Counter({'2A': 100}) Counter({'3B': 95, '1C': 5})\n",
      "agents are Att3 and Att3\n",
      "5 1 Counter({'2A': 100}) Counter({'3B': 100})\n",
      "agents are Att3 and Att3\n",
      "5 2 Counter({'2A': 100}) Counter({'3B': 100})\n",
      "agents are Att3 and Att3\n",
      "5 3 Counter({'2A': 100}) Counter({'3B': 100})\n",
      "agents are Att3 and Att3\n",
      "5 4 Counter({'2A': 100}) Counter({'3B': 100})\n"
     ]
    }
   ],
   "source": [
    "hint_sym = []\n",
    "play_sym = []\n",
    "\n",
    "for i in range(len(agent1s)):\n",
    "    for j in range(len(agent1s)):\n",
    "        if i != j:\n",
    "            # p1 = agent1s[i]\n",
    "            p2 = agent2s[j]\n",
    "            hints, plays = sample_games(p1, p2, verbose=False, episodes=100)\n",
    "            hint_sym += hints\n",
    "            play_sym += plays\n",
    "            print(i,j,Counter(hints), Counter(plays))"
   ]
  },
  {
   "cell_type": "code",
   "execution_count": 19,
   "id": "44f42820-7a29-4584-8869-b8a56a5f0bdb",
   "metadata": {
    "execution": {
     "iopub.execute_input": "2021-10-04T21:41:35.895593Z",
     "iopub.status.busy": "2021-10-04T21:41:35.895318Z",
     "iopub.status.idle": "2021-10-04T21:41:35.902715Z",
     "shell.execute_reply": "2021-10-04T21:41:35.901731Z",
     "shell.execute_reply.started": "2021-10-04T21:41:35.895559Z"
    },
    "tags": []
   },
   "outputs": [
    {
     "data": {
      "text/plain": [
       "Counter({'2A': 3000})"
      ]
     },
     "execution_count": 19,
     "metadata": {},
     "output_type": "execute_result"
    }
   ],
   "source": [
    "Counter(hint_sym)"
   ]
  },
  {
   "cell_type": "code",
   "execution_count": 20,
   "id": "53c8edf0-6190-41bf-b037-171659d564a1",
   "metadata": {
    "execution": {
     "iopub.execute_input": "2021-10-04T21:41:36.645728Z",
     "iopub.status.busy": "2021-10-04T21:41:36.645102Z",
     "iopub.status.idle": "2021-10-04T21:41:36.653339Z",
     "shell.execute_reply": "2021-10-04T21:41:36.652392Z",
     "shell.execute_reply.started": "2021-10-04T21:41:36.645648Z"
    },
    "tags": []
   },
   "outputs": [
    {
     "data": {
      "text/plain": [
       "Counter({'3B': 2986, '1C': 14})"
      ]
     },
     "execution_count": 20,
     "metadata": {},
     "output_type": "execute_result"
    }
   ],
   "source": [
    "Counter(play_sym)"
   ]
  },
  {
   "cell_type": "code",
   "execution_count": 17,
   "id": "16ad31ba-9cc9-4bdb-8010-a75261704211",
   "metadata": {
    "execution": {
     "iopub.execute_input": "2021-10-04T21:39:12.612889Z",
     "iopub.status.busy": "2021-10-04T21:39:12.612620Z",
     "iopub.status.idle": "2021-10-04T21:39:12.710834Z",
     "shell.execute_reply": "2021-10-04T21:39:12.708628Z",
     "shell.execute_reply.started": "2021-10-04T21:39:12.612829Z"
    },
    "tags": []
   },
   "outputs": [],
   "source": [
    "from sample.sample import sample_games\n",
    "\n",
    "game_num = 2"
   ]
  },
  {
   "cell_type": "code",
   "execution_count": 18,
   "id": "7a163cdf-1f14-45cd-9abc-0517325d5e70",
   "metadata": {
    "execution": {
     "iopub.execute_input": "2021-10-04T21:39:12.712482Z",
     "iopub.status.busy": "2021-10-04T21:39:12.712196Z",
     "iopub.status.idle": "2021-10-04T21:39:12.750513Z",
     "shell.execute_reply": "2021-10-04T21:39:12.749768Z",
     "shell.execute_reply.started": "2021-10-04T21:39:12.712441Z"
    },
    "tags": []
   },
   "outputs": [
    {
     "name": "stdout",
     "output_type": "stream",
     "text": [
      "===== Game starts with handsize: 5, nlabl: 3, nlab2: 3 =====\n",
      "Playable hand is: 3C\n",
      "Agent 1 hand is: ['1B', '3A', '1B', '3̲C', '1B']\n",
      "Agent 2 hand is: ['1A', '3̲C', '1C', '2C', '1B']\n",
      "Agent 1 hints 3C @  3\n",
      "Agent 2 plays 3C @  1\n",
      "Final reward of game: 1.0\n",
      "\n",
      "\n",
      "===== Game starts with handsize: 5, nlabl: 3, nlab2: 3 =====\n",
      "Playable hand is: 2C\n",
      "Agent 1 hand is: ['2B', '1A', '1C', '3C', '3A']\n",
      "Agent 2 hand is: ['2̲C', '1A', '1A', '1A', '1A']\n",
      "Agent 1 hints 1C @  2\n",
      "Agent 2 plays 1A @  2\n",
      "Final reward of game: 0.0\n",
      "\n",
      "\n"
     ]
    },
    {
     "data": {
      "text/plain": [
       "array([1., 0.], dtype=float32)"
      ]
     },
     "execution_count": 18,
     "metadata": {},
     "output_type": "execute_result"
    }
   ],
   "source": [
    "i=5\n",
    "p1 = agent1s[i]\n",
    "p2 = agent2s[i]\n",
    "sample_games(p1, p2, episodes=game_num, verbose=True)"
   ]
  },
  {
   "cell_type": "code",
   "execution_count": null,
   "id": "bd65b142-0628-4a48-b26c-830fa99554ec",
   "metadata": {},
   "outputs": [],
   "source": []
  },
  {
   "cell_type": "code",
   "execution_count": null,
   "id": "3334af2f-d139-4600-910b-8ca50667f4ec",
   "metadata": {},
   "outputs": [],
   "source": []
  }
 ],
 "metadata": {
  "kernelspec": {
   "display_name": "Python 3",
   "language": "python",
   "name": "python3"
  },
  "language_info": {
   "codemirror_mode": {
    "name": "ipython",
    "version": 3
   },
   "file_extension": ".py",
   "mimetype": "text/x-python",
   "name": "python",
   "nbconvert_exporter": "python",
   "pygments_lexer": "ipython3",
   "version": "3.7.7"
  }
 },
 "nbformat": 4,
 "nbformat_minor": 5
}
