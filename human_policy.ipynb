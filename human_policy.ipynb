{
 "cells": [
  {
   "cell_type": "code",
   "execution_count": 1,
   "id": "8adc210b-09bc-4a54-a4c6-1f5efe967772",
   "metadata": {
    "execution": {
     "iopub.execute_input": "2021-10-03T18:31:36.872027Z",
     "iopub.status.busy": "2021-10-03T18:31:36.871706Z",
     "iopub.status.idle": "2021-10-03T18:31:38.392991Z",
     "shell.execute_reply": "2021-10-03T18:31:38.392111Z",
     "shell.execute_reply.started": "2021-10-03T18:31:36.871932Z"
    },
    "tags": []
   },
   "outputs": [
    {
     "name": "stdout",
     "output_type": "stream",
     "text": [
      "GPU not available, CPU used\n"
     ]
    }
   ],
   "source": [
    "import numpy as np\n",
    "import pandas as pd\n",
    "import matplotlib.pyplot as plt\n",
    "import seaborn as sns\n",
    "import random\n",
    "from game.hyperparams import Hp\n",
    "\n",
    "import pickle\n",
    "import glob\n",
    "import os\n",
    "\n",
    "\n",
    "import glob\n",
    "import os\n",
    "import pickle\n",
    "import sys\n",
    "import inspect\n",
    "\n",
    "sys.path.append(os.getcwd())\n",
    "sys.path.append(\"\")\n",
    "currentdir = os.path.dirname(os.path.abspath(inspect.getfile(inspect.currentframe())))\n",
    "parentdir = os.path.dirname(currentdir)\n",
    "sys.path.insert(0, parentdir) \n",
    "\n",
    "import torch\n",
    "\n",
    "# if gpu is to be used\n",
    "device = torch.device(\"cuda\" if torch.cuda.is_available() else \"cpu\")\n",
    "\n",
    "import numpy as np\n",
    "from pandas import DataFrame\n",
    "\n",
    "\n",
    "from game.hint_play_game import TwoRoundHintGame\n",
    "from train_qlearner import obs_to_agent\n",
    "\n",
    "from game.hyperparams import Hp\n",
    "from agent.qlearner import QLearner"
   ]
  },
  {
   "cell_type": "code",
   "execution_count": 2,
   "id": "ab8e3951-34d9-4330-883b-7c84feb0f82f",
   "metadata": {
    "execution": {
     "iopub.execute_input": "2021-10-03T18:31:38.394767Z",
     "iopub.status.busy": "2021-10-03T18:31:38.394540Z",
     "iopub.status.idle": "2021-10-03T18:31:38.397816Z",
     "shell.execute_reply": "2021-10-03T18:31:38.397141Z",
     "shell.execute_reply.started": "2021-10-03T18:31:38.394736Z"
    },
    "tags": []
   },
   "outputs": [],
   "source": [
    "hp_default = Hp(hand_size=5,\n",
    "                          nlab1=3,\n",
    "                          nlab2=3,\n",
    "                          )"
   ]
  },
  {
   "cell_type": "code",
   "execution_count": 55,
   "id": "7d4c992c-c062-4751-974b-96baf1025f5b",
   "metadata": {
    "execution": {
     "iopub.execute_input": "2021-10-03T19:03:41.089777Z",
     "iopub.status.busy": "2021-10-03T19:03:41.089330Z",
     "iopub.status.idle": "2021-10-03T19:03:41.102748Z",
     "shell.execute_reply": "2021-10-03T19:03:41.102028Z",
     "shell.execute_reply.started": "2021-10-03T19:03:41.089723Z"
    },
    "tags": []
   },
   "outputs": [],
   "source": [
    "# hand1 = [np.array([0., 1., 0., 1., 0., 0.]),\n",
    "#          np.array([0., 1., 0., 0., 1., 0.]),\n",
    "#          np.array([1., 0., 0., 0., 0., 1.]),\n",
    "#          np.array([1., 0., 0., 0., 0., 1.]),\n",
    "#          np.array([1., 0., 0., 0., 0., 1.]),]\n",
    "\n",
    "hand1 = [np.array([0., 1., 0., 1., 0., 0.]),\n",
    "         np.array([0., 1., 0., 0., 1., 0.]),\n",
    "         np.array([0., 1., 0., 0., 1., 0.]),\n",
    "         np.array([0., 1., 0., 0., 1., 0.]),\n",
    "         np.array([0., 1., 0., 0., 1., 0.]),]\n",
    "         \n",
    "hand2 = [np.array([0., 1., 0., 0., 1., 0.]),\n",
    "         np.array([0., 0., 1., 1., 0., 0.]),\n",
    "         np.array([0., 0., 1., 1., 0., 0.]),\n",
    "         np.array([0., 0., 1., 1., 0., 0.]),\n",
    "         np.array([0., 0., 1., 1., 0., 0.]),]\n",
    "\n",
    "\n",
    "def get_given_initial_state(hp=hp_default, hand1=hand1, hand2=hand2, playable_card_num=4):\n",
    "    \"\"\"\n",
    "    Generate initial obs assignment\n",
    "    P1 gets all hands as well as the playable card for P2\n",
    "    P2 gets all hands as well as an empty card\n",
    "    \"\"\"\n",
    "    info = {}\n",
    "    o1=hand1 \n",
    "    o2=hand2\n",
    "    o1.append(o2[playable_card_num])\n",
    "    o2.append(np.zeros((hp.nlab1 + hp.nlab2)))\n",
    "    o1 = np.array(o1).flatten()\n",
    "    o2 = np.array(o2).flatten()\n",
    "    info['playbale_card_num'] = playable_card_num\n",
    "    return (o1, o2), info"
   ]
  },
  {
   "cell_type": "code",
   "execution_count": 56,
   "id": "2f626e21-7caf-4005-a738-22c23bda8050",
   "metadata": {
    "execution": {
     "iopub.execute_input": "2021-10-03T19:03:44.321313Z",
     "iopub.status.busy": "2021-10-03T19:03:44.320893Z",
     "iopub.status.idle": "2021-10-03T19:03:44.326272Z",
     "shell.execute_reply": "2021-10-03T19:03:44.325277Z",
     "shell.execute_reply.started": "2021-10-03T19:03:44.321258Z"
    },
    "tags": []
   },
   "outputs": [],
   "source": [
    "obs, info = get_given_initial_state()\n",
    "initial_config = {'obs': obs, 'info':info}"
   ]
  },
  {
   "cell_type": "code",
   "execution_count": 51,
   "id": "6ff266c6-b252-4049-ac28-b9c80b013bfd",
   "metadata": {
    "execution": {
     "iopub.execute_input": "2021-10-03T19:02:50.085251Z",
     "iopub.status.busy": "2021-10-03T19:02:50.084808Z",
     "iopub.status.idle": "2021-10-03T19:02:57.491084Z",
     "shell.execute_reply": "2021-10-03T19:02:57.490417Z",
     "shell.execute_reply.started": "2021-10-03T19:02:50.085196Z"
    },
    "tags": []
   },
   "outputs": [],
   "source": [
    "agent1s = []\n",
    "agent2s = []\n",
    "agent_paths = sorted(glob.glob(os.path.join(\"res/Att3_hs_5_l1_3_l2_3_FalseFalse4000000\", \"*.pkl\")))\n",
    "cluster1 = [agent_paths[i] for i in [4,6,10,12,13,17]]\n",
    "cluster2 = [agent_paths[i] for i in  [1,2,3,5,7,8,9,11,14,15,16,]]\n",
    "\n",
    "for filename in cluster1:\n",
    "       with open(filename, \"rb\") as f:\n",
    "               res = pickle.load(f)\n",
    "               agent1s += [res['p1']]\n",
    "               agent2s += [res['p2']]"
   ]
  },
  {
   "cell_type": "code",
   "execution_count": 57,
   "id": "b96de7f8-6b1d-48b2-8300-7e10b4a2067a",
   "metadata": {
    "execution": {
     "iopub.execute_input": "2021-10-03T19:03:48.403112Z",
     "iopub.status.busy": "2021-10-03T19:03:48.402654Z",
     "iopub.status.idle": "2021-10-03T19:03:48.407528Z",
     "shell.execute_reply": "2021-10-03T19:03:48.406721Z",
     "shell.execute_reply.started": "2021-10-03T19:03:48.403060Z"
    },
    "tags": []
   },
   "outputs": [],
   "source": [
    "p1 = agent1s[2]\n",
    "p2 = agent2s[2]"
   ]
  },
  {
   "cell_type": "code",
   "execution_count": 60,
   "id": "163966ca-7108-4461-a9fc-084137727d21",
   "metadata": {
    "execution": {
     "iopub.execute_input": "2021-10-03T20:57:20.177257Z",
     "iopub.status.busy": "2021-10-03T20:57:20.176988Z",
     "iopub.status.idle": "2021-10-03T20:57:20.188973Z",
     "shell.execute_reply": "2021-10-03T20:57:20.188013Z",
     "shell.execute_reply.started": "2021-10-03T20:57:20.177226Z"
    },
    "tags": []
   },
   "outputs": [],
   "source": [
    "def sample_games(p1, p2, episodes=10, verbose=False, initial_config=initial_config):\n",
    "    hp1 = p1.hp\n",
    "    hp2 = p2.hp\n",
    "    env = TwoRoundHintGame(hp=hp1, initial_config=initial_config)\n",
    "\n",
    "    hints = []\n",
    "    plays = []\n",
    "\n",
    "    print(f'agents are {hp1.agent_type} and {hp2.agent_type}')\n",
    "\n",
    "    for i_episode in range(episodes):\n",
    "        # Initialize the environment and state\n",
    "        obs1, info = env.reset()\n",
    "        if verbose:\n",
    "            env.render()\n",
    "        obs1_a1, obs1_a2 = obs_to_agent(obs1, hp=hp1)\n",
    "        if hp1.agent_type != 'FF':\n",
    "            obs1_a1 = obs1_a1.reshape(-1, hp1.nlab1 + hp1.nlab2).T\n",
    "        # P1 select and perform a hint\n",
    "        # obs1_a1 = torch.tensor(obs1_a1, device=device)\n",
    "        a1 = p1.select_action(torch.tensor([obs1_a1], device=device), evaluate=True)\n",
    "        obs2, _, _, _ = env.step(a1)\n",
    "        hint_card = env.get_card_symbol_in_round()\n",
    "        if verbose:\n",
    "            env.render()\n",
    "        # P2 plays a card\n",
    "        obs2_a1, obs2_a2 = obs_to_agent(obs2, hp=hp2)\n",
    "        if hp2.agent_type != 'FF':\n",
    "            obs2_a2 = obs2_a2.reshape(-1, hp2.nlab1 + hp2.nlab2).T\n",
    "        a2 = p2.select_action(torch.tensor([obs2_a2], device=device), evaluate=True)\n",
    "        _, r, _, _ = env.step(a2)\n",
    "        r = torch.tensor([r[0]], device=device)\n",
    "        rewards.append(r.numpy()[0])\n",
    "        play_card = env.get_card_symbol_in_round()\n",
    "        if verbose:\n",
    "            env.render()\n",
    "        hints.append(hint_card)\n",
    "        plays.append(play_card)\n",
    "    return hints, plays"
   ]
  },
  {
   "cell_type": "code",
   "execution_count": 61,
   "id": "42f3c90a-1b85-451f-bb16-0de1ccf0cc28",
   "metadata": {
    "execution": {
     "iopub.execute_input": "2021-10-03T20:57:32.488243Z",
     "iopub.status.busy": "2021-10-03T20:57:32.487764Z",
     "iopub.status.idle": "2021-10-03T20:57:40.157166Z",
     "shell.execute_reply": "2021-10-03T20:57:40.155974Z",
     "shell.execute_reply.started": "2021-10-03T20:57:32.488187Z"
    },
    "tags": []
   },
   "outputs": [
    {
     "name": "stdout",
     "output_type": "stream",
     "text": [
      "agents are Att3 and Att3\n"
     ]
    },
    {
     "ename": "AttributeError",
     "evalue": "'TwoRoundHintGame' object has no attribute 'get_card_symbol_in_round'",
     "output_type": "error",
     "traceback": [
      "\u001b[0;31m---------------------------------------------------------------------------\u001b[0m",
      "\u001b[0;31mAttributeError\u001b[0m                            Traceback (most recent call last)",
      "\u001b[0;32m<ipython-input-61-d15dc6dd9017>\u001b[0m in \u001b[0;36m<module>\u001b[0;34m\u001b[0m\n\u001b[0;32m----> 1\u001b[0;31m \u001b[0msample_games\u001b[0m\u001b[0;34m(\u001b[0m\u001b[0mp1\u001b[0m\u001b[0;34m,\u001b[0m \u001b[0mp2\u001b[0m\u001b[0;34m,\u001b[0m \u001b[0mverbose\u001b[0m\u001b[0;34m=\u001b[0m\u001b[0;32mFalse\u001b[0m\u001b[0;34m)\u001b[0m\u001b[0;34m\u001b[0m\u001b[0;34m\u001b[0m\u001b[0m\n\u001b[0m",
      "\u001b[0;32m<ipython-input-60-7c5926c56805>\u001b[0m in \u001b[0;36msample_games\u001b[0;34m(p1, p2, episodes, verbose, initial_config)\u001b[0m\n\u001b[1;32m     21\u001b[0m         \u001b[0ma1\u001b[0m \u001b[0;34m=\u001b[0m \u001b[0mp1\u001b[0m\u001b[0;34m.\u001b[0m\u001b[0mselect_action\u001b[0m\u001b[0;34m(\u001b[0m\u001b[0mtorch\u001b[0m\u001b[0;34m.\u001b[0m\u001b[0mtensor\u001b[0m\u001b[0;34m(\u001b[0m\u001b[0;34m[\u001b[0m\u001b[0mobs1_a1\u001b[0m\u001b[0;34m]\u001b[0m\u001b[0;34m,\u001b[0m \u001b[0mdevice\u001b[0m\u001b[0;34m=\u001b[0m\u001b[0mdevice\u001b[0m\u001b[0;34m)\u001b[0m\u001b[0;34m,\u001b[0m \u001b[0mevaluate\u001b[0m\u001b[0;34m=\u001b[0m\u001b[0;32mTrue\u001b[0m\u001b[0;34m)\u001b[0m\u001b[0;34m\u001b[0m\u001b[0;34m\u001b[0m\u001b[0m\n\u001b[1;32m     22\u001b[0m         \u001b[0mobs2\u001b[0m\u001b[0;34m,\u001b[0m \u001b[0m_\u001b[0m\u001b[0;34m,\u001b[0m \u001b[0m_\u001b[0m\u001b[0;34m,\u001b[0m \u001b[0m_\u001b[0m \u001b[0;34m=\u001b[0m \u001b[0menv\u001b[0m\u001b[0;34m.\u001b[0m\u001b[0mstep\u001b[0m\u001b[0;34m(\u001b[0m\u001b[0ma1\u001b[0m\u001b[0;34m)\u001b[0m\u001b[0;34m\u001b[0m\u001b[0;34m\u001b[0m\u001b[0m\n\u001b[0;32m---> 23\u001b[0;31m         \u001b[0mhint_card\u001b[0m \u001b[0;34m=\u001b[0m \u001b[0menv\u001b[0m\u001b[0;34m.\u001b[0m\u001b[0mget_card_symbol_in_round\u001b[0m\u001b[0;34m(\u001b[0m\u001b[0;34m)\u001b[0m\u001b[0;34m\u001b[0m\u001b[0;34m\u001b[0m\u001b[0m\n\u001b[0m\u001b[1;32m     24\u001b[0m         \u001b[0;32mif\u001b[0m \u001b[0mverbose\u001b[0m\u001b[0;34m:\u001b[0m\u001b[0;34m\u001b[0m\u001b[0;34m\u001b[0m\u001b[0m\n\u001b[1;32m     25\u001b[0m             \u001b[0menv\u001b[0m\u001b[0;34m.\u001b[0m\u001b[0mrender\u001b[0m\u001b[0;34m(\u001b[0m\u001b[0;34m)\u001b[0m\u001b[0;34m\u001b[0m\u001b[0;34m\u001b[0m\u001b[0m\n",
      "\u001b[0;31mAttributeError\u001b[0m: 'TwoRoundHintGame' object has no attribute 'get_card_symbol_in_round'"
     ]
    }
   ],
   "source": [
    "sample_games(p1, p2, verbose=False)"
   ]
  },
  {
   "cell_type": "code",
   "execution_count": null,
   "id": "a2a841ba-c6c4-4ca7-b42b-d4ac1f03f712",
   "metadata": {},
   "outputs": [],
   "source": []
  },
  {
   "cell_type": "code",
   "execution_count": null,
   "id": "4bc418f2-6c1f-4a1c-8d99-c8be64750463",
   "metadata": {},
   "outputs": [],
   "source": []
  },
  {
   "cell_type": "code",
   "execution_count": null,
   "id": "157ae5ec-9a11-4486-b415-511633ab8857",
   "metadata": {},
   "outputs": [],
   "source": []
  },
  {
   "cell_type": "code",
   "execution_count": null,
   "id": "16ad31ba-9cc9-4bdb-8010-a75261704211",
   "metadata": {},
   "outputs": [],
   "source": []
  },
  {
   "cell_type": "code",
   "execution_count": null,
   "id": "7a163cdf-1f14-45cd-9abc-0517325d5e70",
   "metadata": {},
   "outputs": [],
   "source": []
  },
  {
   "cell_type": "code",
   "execution_count": null,
   "id": "bd65b142-0628-4a48-b26c-830fa99554ec",
   "metadata": {},
   "outputs": [],
   "source": []
  },
  {
   "cell_type": "code",
   "execution_count": null,
   "id": "3334af2f-d139-4600-910b-8ca50667f4ec",
   "metadata": {},
   "outputs": [],
   "source": []
  }
 ],
 "metadata": {
  "kernelspec": {
   "display_name": "Python 3",
   "language": "python",
   "name": "python3"
  },
  "language_info": {
   "codemirror_mode": {
    "name": "ipython",
    "version": 3
   },
   "file_extension": ".py",
   "mimetype": "text/x-python",
   "name": "python",
   "nbconvert_exporter": "python",
   "pygments_lexer": "ipython3",
   "version": "3.7.7"
  }
 },
 "nbformat": 4,
 "nbformat_minor": 5
}
