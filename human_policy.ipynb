{
 "cells": [
  {
   "cell_type": "code",
   "execution_count": 1,
   "id": "8adc210b-09bc-4a54-a4c6-1f5efe967772",
   "metadata": {
    "execution": {
     "iopub.execute_input": "2021-10-03T16:16:09.246241Z",
     "iopub.status.busy": "2021-10-03T16:16:09.245789Z",
     "iopub.status.idle": "2021-10-03T16:16:26.917405Z",
     "shell.execute_reply": "2021-10-03T16:16:26.916332Z",
     "shell.execute_reply.started": "2021-10-03T16:16:09.246123Z"
    }
   },
   "outputs": [],
   "source": [
    "import numpy as np\n",
    "import pandas as pd\n",
    "import matplotlib.pyplot as plt\n",
    "import seaborn as sns\n",
    "\n",
    "import pickle\n",
    "import glob\n",
    "import os"
   ]
  },
  {
   "cell_type": "code",
   "execution_count": null,
   "id": "7d4c992c-c062-4751-974b-96baf1025f5b",
   "metadata": {},
   "outputs": [],
   "source": []
  }
 ],
 "metadata": {
  "kernelspec": {
   "display_name": "Python 3",
   "language": "python",
   "name": "python3"
  },
  "language_info": {
   "codemirror_mode": {
    "name": "ipython",
    "version": 3
   },
   "file_extension": ".py",
   "mimetype": "text/x-python",
   "name": "python",
   "nbconvert_exporter": "python",
   "pygments_lexer": "ipython3",
   "version": "3.7.7"
  }
 },
 "nbformat": 4,
 "nbformat_minor": 5
}
